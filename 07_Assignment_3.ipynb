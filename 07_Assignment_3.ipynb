{
 "cells": [
  {
   "cell_type": "markdown",
   "metadata": {},
   "source": [
    "# Introductory applied machine learning (INFR10069)"
   ]
  },
  {
   "cell_type": "markdown",
   "metadata": {},
   "source": [
    "# Assignment 3: Object recognition"
   ]
  },
  {
   "cell_type": "markdown",
   "metadata": {},
   "source": [
    "## Marking Breakdown\n",
    "\n",
    "**70-100%** results/answer correct plus extra achievement at understanding or analysis of results. Clear explanations, evidence of creative or deeper thought will contribute to a higher grade.\n",
    "\n",
    "**60-69%** results/answer correct or nearly correct and well explained.\n",
    "\n",
    "**50-59%** results/answer in right direction but significant errors.\n",
    "\n",
    "**40-49%** some evidence that the student has gained some understanding, but not answered the questions\n",
    "properly.\n",
    "\n",
    "**0-39%** serious error or slack work."
   ]
  },
  {
   "cell_type": "markdown",
   "metadata": {},
   "source": [
    "## Mechanics\n",
    "\n",
    "You should produce a Jupyter notebook and a `.txt` file (see Part 2) in answer to this assignment.\n",
    "**You need to submit these two files electronically as described below.**\n",
    "\n",
    "Place your notebook and `.txt` files **only** in a directory called `iamlans` and submit this directory using the submit command on a DICE machine. The format is:\n",
    "\n",
    "`submit iaml 3 iamlans`\n",
    "\n",
    "You can check the status of your submissions with the `show_submissions` command.\n",
    "\n",
    "**Late submissions:** The policy stated in the School of Informatics MSc Degree Guide is that normally you will not be allowed to submit coursework late. See http://www.inf.ed.ac.uk/teaching/years/msc/courseguide10.html#exam for exceptions to this, e.g. in case of serious medical illness or serious personal problems.\n",
    "\n",
    "**Collaboration:** You may discuss the assignment with your colleagues, provided that the writing that you submit is entirely your own. That is, you should NOT borrow actual text or code from other students. We ask that you provide a list of the people who you've had discussions with (if any).\n"
   ]
  },
  {
   "cell_type": "markdown",
   "metadata": {},
   "source": [
    "## Important Instructions\n",
    "\n",
    "1. In the following questions you are asked to run experiments using Python (version 2.7) and the following packages:\n",
    "    * Numpy\n",
    "    * Pandas\n",
    "    * Scikit-learn 0.17\n",
    "    * Matplotlib\n",
    "    * Seaborn\n",
    "\n",
    "2. Before you start make sure you have set up a vitual environment (or conda environment if you are working on your own machine) and the required packages installed. Instructions on how to set-up the working enviornment and install the required packages can be found in `01_Lab_1_Introduction`.\n",
    "\n",
    "3. Wherever you are required to produce code you should use code cells, otherwise you should use markdown cells to report results and explain answers.\n",
    "\n",
    "4. The .csv files that you will be using are located at `./datasets` (the `datasets` directory is adjacent to this file).\n",
    "\n",
    "5. **IMPORTANT:** Keep your answers brief and concise. Most questions can be answered with 2-3 lines of explanation (excluding coding questions), unless stated otherwise."
   ]
  },
  {
   "cell_type": "markdown",
   "metadata": {},
   "source": [
    "## Imports\n",
    "\n",
    "In this assignment you are asked to import all the packages and modules you will need. Include all required imports and execute the cell below."
   ]
  },
  {
   "cell_type": "code",
   "execution_count": 107,
   "metadata": {
    "collapsed": false
   },
   "outputs": [
    {
     "name": "stdout",
     "output_type": "stream",
     "text": [
      "done w/ import\n"
     ]
    }
   ],
   "source": [
    "from __future__ import print_function, division\n",
    "\n",
    "import os\n",
    "import numpy as np\n",
    "import pandas as pd\n",
    "import matplotlib.pyplot as plt\n",
    "from sklearn.metrics import confusion_matrix, log_loss, accuracy_score\n",
    "from sklearn.cross_validation import train_test_split, KFold\n",
    "from sklearn.linear_model import LogisticRegression, LogisticRegressionCV\n",
    "from sklearn.preprocessing import StandardScaler\n",
    "from sklearn.svm import SVC\n",
    "from sklearn.ensemble import RandomForestClassifier\n",
    "from sklearn.preprocessing import FunctionTransformer, MinMaxScaler, RobustScaler\n",
    "from numpy import unravel_index\n",
    "import seaborn as sns\n",
    "from sklearn.decomposition import PCA\n",
    "from seaborn import heatmap\n",
    "from sklearn.neighbors import KNeighborsClassifier\n",
    "\n",
    "%matplotlib inline\n",
    "print('done w/ import')"
   ]
  },
  {
   "cell_type": "markdown",
   "metadata": {},
   "source": [
    "## Description of the dataset\n",
    "In this assignment our goal is to recognize objects from 19 di\u000b",
    "erent visual classes (e.g. person, dog, cat, car, ...) in realistic scenes. The dataset consists of several thousands photographs harvested from the web. Each object of a relevant class has been manually annotated with a bounding box. Images can contain none, one or multiple objects of each class. We have prepared a [website](http://www.inf.ed.ac.uk/teaching/courses/iaml/2014/assts/asst3/images.html) where you can view the images.\n",
    "\n",
    "Here we will focus on a single classiffication task: you will be required to classify images as to whether or not they contain a person. To save you time and to make the problem manageable with limited computational resources, we have preprocessed the dataset. We will use the [Bag of Visual Words](https://en.wikipedia.org/wiki/Bag-of-words_model_in_computer_vision) representation. That is, each image is represented by a 500 dimensional vector that contains the normalized count for each of 500 diffeerent visual words present in the respective image (a similar representation is used for the spambase dataset, just for real words). Visual words are based on [Scale-invariant feature transforms (SIFT)](https://en.wikipedia.org/wiki/Scale-invariant_feature_transform). SIFT features are essentially local orientation histograms and capture the properties of small image regions. They possess attractive invariance properties which make them well suited for our task (you can read more about SIFT features in [D.Lowe, IJCV 60(2):91- 110, 2004](http://link.springer.com/article/10.1023/B:VISI.0000029664.99615.94), but the details don't matter for the purpose of this assignment). Each SIFT feature is a 128 dimensional vector. From each image many SIFT features are extracted, typically > 2500 per image (features are extracted at regular intervals using a 15 pixel grid and at 4 different scales). To obtain visual words a representative subset of all extracted SIFT features from all images is chosen and clustered with k-means using 500 centres (such use of the k-means algorithm will be discussed in detail during the lecture). These 500 cluster centres form our visual words. The representation of a single image is obtained by first assigning each SIFT feature extracted from the image to the appropriate cluster (i.e. we determine the visual word corresponding to each feature by picking the closest cluster centre). We then count the number of features from that image assigned to each cluster (i.e. we determine how often each visual word is present in the image). This results in a 500 dimensional count vector for each image (one dimension for each visual word). The normalized version of this count vector gives the final representation of the image (normalized means that we divide the count vector by the total number of visual words in the image, i.e. the normalized counts sum to 1 for each image). Our dataset with all images is thus a $N \\times 500$ dimensional matrix where `N` is the number of images. The resulting representation is much more compact and can be used directly to perform classiffication.\n",
    "\n",
    "The full dataset has 520 attributes (dimensions). The first attribute (`imgID`) contains the image ID which allows you to associate a data point with an actual image. The next 500 attributes (`dim1`, ..., `dim500`) correspond to the normalized count vector. The last 19 attributes (`is_class`) indicate the presence of at least one object of a particular class in the image. In most of the experiments (unless explicitly noted otherwise) you will be asked to train classiffiers for classifying person vs. non-person images and only the `is_person` attribute and the 500 dimensional feature vector will be used. Do not use the additional class indicator attributes as features unless explicitly told to do so. \n",
    "\n",
    "In Part A we provide you with a training (`train_images partA.csv`) and a validation (`valid_images partA .csv`) dataset. In Part B we provide three data sets: a training set (`train_images partB.csv`), a validation set (`valid_images partB.csv`), and a test set (`test_images partB.csv`). The training and validation set contain valid labels. In the test set the labels are missing. The files are available from the GitHub repository. \n",
    "\n",
    "*Important: Throughout the assignment you will be given various versions of the dataset that are relevant\n",
    "to a particular question. Please be careful to use the correct version of the dataset when instructed to do so.\n",
    "If you use the wrong version of the dataset by mistake no marks will be awarded.*"
   ]
  },
  {
   "cell_type": "markdown",
   "metadata": {},
   "source": [
    "## 1. Exploration of the dataset [70%]"
   ]
  },
  {
   "cell_type": "markdown",
   "metadata": {},
   "source": [
    "### ========== Question 1.1 ==========\n",
    "Load the datasets `train_images_partA.csv` and `valid_images_partA.csv` into two pandas DataFrame called `train_A` and `valid_A`. Display the number of data points and attributes in each of the two datasets."
   ]
  },
  {
   "cell_type": "code",
   "execution_count": 22,
   "metadata": {
    "collapsed": false
   },
   "outputs": [],
   "source": [
    "# Load the datasets\n",
    "data_path1 = os.path.join(os.getcwd(), 'datasets', 'train_images_partA.csv')\n",
    "train_A = pd.read_csv(data_path1, delimiter = ',')\n",
    "\n",
    "data_path2 = os.path.join(os.getcwd(), 'datasets', 'valid_images_partA.csv')\n",
    "valid_A = pd.read_csv(data_path2, delimiter = ',')\n"
   ]
  },
  {
   "cell_type": "markdown",
   "metadata": {},
   "source": [
    "### ========== Question 1.2 ==========\n",
    "Display and inspect the first 10 instances in the training dataset."
   ]
  },
  {
   "cell_type": "code",
   "execution_count": 4,
   "metadata": {
    "collapsed": false
   },
   "outputs": [
    {
     "data": {
      "text/html": [
       "<div>\n",
       "<table border=\"1\" class=\"dataframe\">\n",
       "  <thead>\n",
       "    <tr style=\"text-align: right;\">\n",
       "      <th></th>\n",
       "      <th>imgId</th>\n",
       "      <th>dim1</th>\n",
       "      <th>dim2</th>\n",
       "      <th>dim3</th>\n",
       "      <th>dim4</th>\n",
       "      <th>dim5</th>\n",
       "      <th>dim6</th>\n",
       "      <th>dim7</th>\n",
       "      <th>dim8</th>\n",
       "      <th>dim9</th>\n",
       "      <th>...</th>\n",
       "      <th>is_cow</th>\n",
       "      <th>is_diningtable</th>\n",
       "      <th>is_dog</th>\n",
       "      <th>is_horse</th>\n",
       "      <th>is_motorbike</th>\n",
       "      <th>is_person</th>\n",
       "      <th>is_pottedplant</th>\n",
       "      <th>is_sheep</th>\n",
       "      <th>is_sofa</th>\n",
       "      <th>is_tvmonitor</th>\n",
       "    </tr>\n",
       "  </thead>\n",
       "  <tbody>\n",
       "    <tr>\n",
       "      <th>0</th>\n",
       "      <td>2008_000008</td>\n",
       "      <td>0.002232</td>\n",
       "      <td>0.000558</td>\n",
       "      <td>0.002790</td>\n",
       "      <td>0.000837</td>\n",
       "      <td>0.001674</td>\n",
       "      <td>0.001953</td>\n",
       "      <td>0.001395</td>\n",
       "      <td>0.002232</td>\n",
       "      <td>0.003627</td>\n",
       "      <td>...</td>\n",
       "      <td>0</td>\n",
       "      <td>0</td>\n",
       "      <td>0</td>\n",
       "      <td>1</td>\n",
       "      <td>0</td>\n",
       "      <td>1</td>\n",
       "      <td>0</td>\n",
       "      <td>0</td>\n",
       "      <td>0</td>\n",
       "      <td>0</td>\n",
       "    </tr>\n",
       "    <tr>\n",
       "      <th>1</th>\n",
       "      <td>2008_000015</td>\n",
       "      <td>0.001563</td>\n",
       "      <td>0.000391</td>\n",
       "      <td>0.007422</td>\n",
       "      <td>0.003516</td>\n",
       "      <td>0.003906</td>\n",
       "      <td>0.005078</td>\n",
       "      <td>0.001953</td>\n",
       "      <td>0.002344</td>\n",
       "      <td>0.001953</td>\n",
       "      <td>...</td>\n",
       "      <td>0</td>\n",
       "      <td>0</td>\n",
       "      <td>0</td>\n",
       "      <td>0</td>\n",
       "      <td>0</td>\n",
       "      <td>0</td>\n",
       "      <td>0</td>\n",
       "      <td>0</td>\n",
       "      <td>0</td>\n",
       "      <td>0</td>\n",
       "    </tr>\n",
       "    <tr>\n",
       "      <th>2</th>\n",
       "      <td>2008_000019</td>\n",
       "      <td>0.000521</td>\n",
       "      <td>0.000000</td>\n",
       "      <td>0.000000</td>\n",
       "      <td>0.001042</td>\n",
       "      <td>0.001563</td>\n",
       "      <td>0.005729</td>\n",
       "      <td>0.000521</td>\n",
       "      <td>0.002083</td>\n",
       "      <td>0.003646</td>\n",
       "      <td>...</td>\n",
       "      <td>0</td>\n",
       "      <td>0</td>\n",
       "      <td>1</td>\n",
       "      <td>0</td>\n",
       "      <td>0</td>\n",
       "      <td>0</td>\n",
       "      <td>0</td>\n",
       "      <td>0</td>\n",
       "      <td>0</td>\n",
       "      <td>0</td>\n",
       "    </tr>\n",
       "    <tr>\n",
       "      <th>3</th>\n",
       "      <td>2008_000023</td>\n",
       "      <td>0.002976</td>\n",
       "      <td>0.002232</td>\n",
       "      <td>0.004464</td>\n",
       "      <td>0.000372</td>\n",
       "      <td>0.000372</td>\n",
       "      <td>0.002232</td>\n",
       "      <td>0.000000</td>\n",
       "      <td>0.003720</td>\n",
       "      <td>0.000000</td>\n",
       "      <td>...</td>\n",
       "      <td>0</td>\n",
       "      <td>0</td>\n",
       "      <td>0</td>\n",
       "      <td>0</td>\n",
       "      <td>0</td>\n",
       "      <td>1</td>\n",
       "      <td>0</td>\n",
       "      <td>0</td>\n",
       "      <td>0</td>\n",
       "      <td>1</td>\n",
       "    </tr>\n",
       "    <tr>\n",
       "      <th>4</th>\n",
       "      <td>2008_000028</td>\n",
       "      <td>0.001359</td>\n",
       "      <td>0.000340</td>\n",
       "      <td>0.001359</td>\n",
       "      <td>0.000340</td>\n",
       "      <td>0.001359</td>\n",
       "      <td>0.002038</td>\n",
       "      <td>0.002378</td>\n",
       "      <td>0.000000</td>\n",
       "      <td>0.003397</td>\n",
       "      <td>...</td>\n",
       "      <td>0</td>\n",
       "      <td>0</td>\n",
       "      <td>0</td>\n",
       "      <td>0</td>\n",
       "      <td>0</td>\n",
       "      <td>0</td>\n",
       "      <td>0</td>\n",
       "      <td>0</td>\n",
       "      <td>0</td>\n",
       "      <td>0</td>\n",
       "    </tr>\n",
       "    <tr>\n",
       "      <th>5</th>\n",
       "      <td>2008_000033</td>\n",
       "      <td>0.000000</td>\n",
       "      <td>0.006324</td>\n",
       "      <td>0.000372</td>\n",
       "      <td>0.000372</td>\n",
       "      <td>0.000372</td>\n",
       "      <td>0.000372</td>\n",
       "      <td>0.000744</td>\n",
       "      <td>0.008185</td>\n",
       "      <td>0.000372</td>\n",
       "      <td>...</td>\n",
       "      <td>0</td>\n",
       "      <td>0</td>\n",
       "      <td>0</td>\n",
       "      <td>0</td>\n",
       "      <td>0</td>\n",
       "      <td>0</td>\n",
       "      <td>0</td>\n",
       "      <td>0</td>\n",
       "      <td>0</td>\n",
       "      <td>0</td>\n",
       "    </tr>\n",
       "    <tr>\n",
       "      <th>6</th>\n",
       "      <td>2008_000036</td>\n",
       "      <td>0.000340</td>\n",
       "      <td>0.000000</td>\n",
       "      <td>0.004416</td>\n",
       "      <td>0.000340</td>\n",
       "      <td>0.000679</td>\n",
       "      <td>0.006114</td>\n",
       "      <td>0.001359</td>\n",
       "      <td>0.002717</td>\n",
       "      <td>0.003057</td>\n",
       "      <td>...</td>\n",
       "      <td>0</td>\n",
       "      <td>0</td>\n",
       "      <td>0</td>\n",
       "      <td>0</td>\n",
       "      <td>0</td>\n",
       "      <td>1</td>\n",
       "      <td>0</td>\n",
       "      <td>0</td>\n",
       "      <td>0</td>\n",
       "      <td>0</td>\n",
       "    </tr>\n",
       "    <tr>\n",
       "      <th>7</th>\n",
       "      <td>2008_000037</td>\n",
       "      <td>0.000837</td>\n",
       "      <td>0.002232</td>\n",
       "      <td>0.000279</td>\n",
       "      <td>0.000279</td>\n",
       "      <td>0.000837</td>\n",
       "      <td>0.000000</td>\n",
       "      <td>0.000279</td>\n",
       "      <td>0.006696</td>\n",
       "      <td>0.000000</td>\n",
       "      <td>...</td>\n",
       "      <td>0</td>\n",
       "      <td>0</td>\n",
       "      <td>0</td>\n",
       "      <td>0</td>\n",
       "      <td>0</td>\n",
       "      <td>0</td>\n",
       "      <td>0</td>\n",
       "      <td>0</td>\n",
       "      <td>0</td>\n",
       "      <td>0</td>\n",
       "    </tr>\n",
       "    <tr>\n",
       "      <th>8</th>\n",
       "      <td>2008_000041</td>\n",
       "      <td>0.002378</td>\n",
       "      <td>0.001359</td>\n",
       "      <td>0.004755</td>\n",
       "      <td>0.001019</td>\n",
       "      <td>0.003736</td>\n",
       "      <td>0.001359</td>\n",
       "      <td>0.001019</td>\n",
       "      <td>0.004076</td>\n",
       "      <td>0.003397</td>\n",
       "      <td>...</td>\n",
       "      <td>0</td>\n",
       "      <td>1</td>\n",
       "      <td>0</td>\n",
       "      <td>0</td>\n",
       "      <td>0</td>\n",
       "      <td>1</td>\n",
       "      <td>0</td>\n",
       "      <td>0</td>\n",
       "      <td>0</td>\n",
       "      <td>0</td>\n",
       "    </tr>\n",
       "    <tr>\n",
       "      <th>9</th>\n",
       "      <td>2008_000045</td>\n",
       "      <td>0.001019</td>\n",
       "      <td>0.000340</td>\n",
       "      <td>0.006454</td>\n",
       "      <td>0.001698</td>\n",
       "      <td>0.001359</td>\n",
       "      <td>0.003736</td>\n",
       "      <td>0.000000</td>\n",
       "      <td>0.004076</td>\n",
       "      <td>0.000000</td>\n",
       "      <td>...</td>\n",
       "      <td>0</td>\n",
       "      <td>0</td>\n",
       "      <td>0</td>\n",
       "      <td>0</td>\n",
       "      <td>0</td>\n",
       "      <td>0</td>\n",
       "      <td>0</td>\n",
       "      <td>0</td>\n",
       "      <td>0</td>\n",
       "      <td>0</td>\n",
       "    </tr>\n",
       "  </tbody>\n",
       "</table>\n",
       "<p>10 rows × 520 columns</p>\n",
       "</div>"
      ],
      "text/plain": [
       "         imgId      dim1      dim2      dim3      dim4      dim5      dim6  \\\n",
       "0  2008_000008  0.002232  0.000558  0.002790  0.000837  0.001674  0.001953   \n",
       "1  2008_000015  0.001563  0.000391  0.007422  0.003516  0.003906  0.005078   \n",
       "2  2008_000019  0.000521  0.000000  0.000000  0.001042  0.001563  0.005729   \n",
       "3  2008_000023  0.002976  0.002232  0.004464  0.000372  0.000372  0.002232   \n",
       "4  2008_000028  0.001359  0.000340  0.001359  0.000340  0.001359  0.002038   \n",
       "5  2008_000033  0.000000  0.006324  0.000372  0.000372  0.000372  0.000372   \n",
       "6  2008_000036  0.000340  0.000000  0.004416  0.000340  0.000679  0.006114   \n",
       "7  2008_000037  0.000837  0.002232  0.000279  0.000279  0.000837  0.000000   \n",
       "8  2008_000041  0.002378  0.001359  0.004755  0.001019  0.003736  0.001359   \n",
       "9  2008_000045  0.001019  0.000340  0.006454  0.001698  0.001359  0.003736   \n",
       "\n",
       "       dim7      dim8      dim9      ...       is_cow  is_diningtable  is_dog  \\\n",
       "0  0.001395  0.002232  0.003627      ...            0               0       0   \n",
       "1  0.001953  0.002344  0.001953      ...            0               0       0   \n",
       "2  0.000521  0.002083  0.003646      ...            0               0       1   \n",
       "3  0.000000  0.003720  0.000000      ...            0               0       0   \n",
       "4  0.002378  0.000000  0.003397      ...            0               0       0   \n",
       "5  0.000744  0.008185  0.000372      ...            0               0       0   \n",
       "6  0.001359  0.002717  0.003057      ...            0               0       0   \n",
       "7  0.000279  0.006696  0.000000      ...            0               0       0   \n",
       "8  0.001019  0.004076  0.003397      ...            0               1       0   \n",
       "9  0.000000  0.004076  0.000000      ...            0               0       0   \n",
       "\n",
       "   is_horse  is_motorbike  is_person  is_pottedplant  is_sheep  is_sofa  \\\n",
       "0         1             0          1               0         0        0   \n",
       "1         0             0          0               0         0        0   \n",
       "2         0             0          0               0         0        0   \n",
       "3         0             0          1               0         0        0   \n",
       "4         0             0          0               0         0        0   \n",
       "5         0             0          0               0         0        0   \n",
       "6         0             0          1               0         0        0   \n",
       "7         0             0          0               0         0        0   \n",
       "8         0             0          1               0         0        0   \n",
       "9         0             0          0               0         0        0   \n",
       "\n",
       "   is_tvmonitor  \n",
       "0             0  \n",
       "1             0  \n",
       "2             0  \n",
       "3             1  \n",
       "4             0  \n",
       "5             0  \n",
       "6             0  \n",
       "7             0  \n",
       "8             0  \n",
       "9             0  \n",
       "\n",
       "[10 rows x 520 columns]"
      ]
     },
     "execution_count": 4,
     "metadata": {},
     "output_type": "execute_result"
    }
   ],
   "source": [
    "train_A.head(10)"
   ]
  },
  {
   "cell_type": "markdown",
   "metadata": {},
   "source": [
    "### ========== Question 1.3 ==========\n",
    "In this part we want to select the appopriate attributes (i.e. input features) for training our classifiers. These should be the attributes `dim1, dim2, ..., dim500`. Create a list which has as elements the **names** of the attributes of interest. "
   ]
  },
  {
   "cell_type": "code",
   "execution_count": 5,
   "metadata": {
    "collapsed": false
   },
   "outputs": [
    {
     "name": "stdout",
     "output_type": "stream",
     "text": [
      "['dim1', 'dim2', 'dim3', 'dim4', 'dim5', 'dim6', 'dim7', 'dim8', 'dim9', 'dim10', 'dim11', 'dim12', 'dim13', 'dim14', 'dim15', 'dim16', 'dim17', 'dim18', 'dim19', 'dim20', 'dim21', 'dim22', 'dim23', 'dim24', 'dim25', 'dim26', 'dim27', 'dim28', 'dim29', 'dim30', 'dim31', 'dim32', 'dim33', 'dim34', 'dim35', 'dim36', 'dim37', 'dim38', 'dim39', 'dim40', 'dim41', 'dim42', 'dim43', 'dim44', 'dim45', 'dim46', 'dim47', 'dim48', 'dim49', 'dim50', 'dim51', 'dim52', 'dim53', 'dim54', 'dim55', 'dim56', 'dim57', 'dim58', 'dim59', 'dim60', 'dim61', 'dim62', 'dim63', 'dim64', 'dim65', 'dim66', 'dim67', 'dim68', 'dim69', 'dim70', 'dim71', 'dim72', 'dim73', 'dim74', 'dim75', 'dim76', 'dim77', 'dim78', 'dim79', 'dim80', 'dim81', 'dim82', 'dim83', 'dim84', 'dim85', 'dim86', 'dim87', 'dim88', 'dim89', 'dim90', 'dim91', 'dim92', 'dim93', 'dim94', 'dim95', 'dim96', 'dim97', 'dim98', 'dim99', 'dim100', 'dim101', 'dim102', 'dim103', 'dim104', 'dim105', 'dim106', 'dim107', 'dim108', 'dim109', 'dim110', 'dim111', 'dim112', 'dim113', 'dim114', 'dim115', 'dim116', 'dim117', 'dim118', 'dim119', 'dim120', 'dim121', 'dim122', 'dim123', 'dim124', 'dim125', 'dim126', 'dim127', 'dim128', 'dim129', 'dim130', 'dim131', 'dim132', 'dim133', 'dim134', 'dim135', 'dim136', 'dim137', 'dim138', 'dim139', 'dim140', 'dim141', 'dim142', 'dim143', 'dim144', 'dim145', 'dim146', 'dim147', 'dim148', 'dim149', 'dim150', 'dim151', 'dim152', 'dim153', 'dim154', 'dim155', 'dim156', 'dim157', 'dim158', 'dim159', 'dim160', 'dim161', 'dim162', 'dim163', 'dim164', 'dim165', 'dim166', 'dim167', 'dim168', 'dim169', 'dim170', 'dim171', 'dim172', 'dim173', 'dim174', 'dim175', 'dim176', 'dim177', 'dim178', 'dim179', 'dim180', 'dim181', 'dim182', 'dim183', 'dim184', 'dim185', 'dim186', 'dim187', 'dim188', 'dim189', 'dim190', 'dim191', 'dim192', 'dim193', 'dim194', 'dim195', 'dim196', 'dim197', 'dim198', 'dim199', 'dim200', 'dim201', 'dim202', 'dim203', 'dim204', 'dim205', 'dim206', 'dim207', 'dim208', 'dim209', 'dim210', 'dim211', 'dim212', 'dim213', 'dim214', 'dim215', 'dim216', 'dim217', 'dim218', 'dim219', 'dim220', 'dim221', 'dim222', 'dim223', 'dim224', 'dim225', 'dim226', 'dim227', 'dim228', 'dim229', 'dim230', 'dim231', 'dim232', 'dim233', 'dim234', 'dim235', 'dim236', 'dim237', 'dim238', 'dim239', 'dim240', 'dim241', 'dim242', 'dim243', 'dim244', 'dim245', 'dim246', 'dim247', 'dim248', 'dim249', 'dim250', 'dim251', 'dim252', 'dim253', 'dim254', 'dim255', 'dim256', 'dim257', 'dim258', 'dim259', 'dim260', 'dim261', 'dim262', 'dim263', 'dim264', 'dim265', 'dim266', 'dim267', 'dim268', 'dim269', 'dim270', 'dim271', 'dim272', 'dim273', 'dim274', 'dim275', 'dim276', 'dim277', 'dim278', 'dim279', 'dim280', 'dim281', 'dim282', 'dim283', 'dim284', 'dim285', 'dim286', 'dim287', 'dim288', 'dim289', 'dim290', 'dim291', 'dim292', 'dim293', 'dim294', 'dim295', 'dim296', 'dim297', 'dim298', 'dim299', 'dim300', 'dim301', 'dim302', 'dim303', 'dim304', 'dim305', 'dim306', 'dim307', 'dim308', 'dim309', 'dim310', 'dim311', 'dim312', 'dim313', 'dim314', 'dim315', 'dim316', 'dim317', 'dim318', 'dim319', 'dim320', 'dim321', 'dim322', 'dim323', 'dim324', 'dim325', 'dim326', 'dim327', 'dim328', 'dim329', 'dim330', 'dim331', 'dim332', 'dim333', 'dim334', 'dim335', 'dim336', 'dim337', 'dim338', 'dim339', 'dim340', 'dim341', 'dim342', 'dim343', 'dim344', 'dim345', 'dim346', 'dim347', 'dim348', 'dim349', 'dim350', 'dim351', 'dim352', 'dim353', 'dim354', 'dim355', 'dim356', 'dim357', 'dim358', 'dim359', 'dim360', 'dim361', 'dim362', 'dim363', 'dim364', 'dim365', 'dim366', 'dim367', 'dim368', 'dim369', 'dim370', 'dim371', 'dim372', 'dim373', 'dim374', 'dim375', 'dim376', 'dim377', 'dim378', 'dim379', 'dim380', 'dim381', 'dim382', 'dim383', 'dim384', 'dim385', 'dim386', 'dim387', 'dim388', 'dim389', 'dim390', 'dim391', 'dim392', 'dim393', 'dim394', 'dim395', 'dim396', 'dim397', 'dim398', 'dim399', 'dim400', 'dim401', 'dim402', 'dim403', 'dim404', 'dim405', 'dim406', 'dim407', 'dim408', 'dim409', 'dim410', 'dim411', 'dim412', 'dim413', 'dim414', 'dim415', 'dim416', 'dim417', 'dim418', 'dim419', 'dim420', 'dim421', 'dim422', 'dim423', 'dim424', 'dim425', 'dim426', 'dim427', 'dim428', 'dim429', 'dim430', 'dim431', 'dim432', 'dim433', 'dim434', 'dim435', 'dim436', 'dim437', 'dim438', 'dim439', 'dim440', 'dim441', 'dim442', 'dim443', 'dim444', 'dim445', 'dim446', 'dim447', 'dim448', 'dim449', 'dim450', 'dim451', 'dim452', 'dim453', 'dim454', 'dim455', 'dim456', 'dim457', 'dim458', 'dim459', 'dim460', 'dim461', 'dim462', 'dim463', 'dim464', 'dim465', 'dim466', 'dim467', 'dim468', 'dim469', 'dim470', 'dim471', 'dim472', 'dim473', 'dim474', 'dim475', 'dim476', 'dim477', 'dim478', 'dim479', 'dim480', 'dim481', 'dim482', 'dim483', 'dim484', 'dim485', 'dim486', 'dim487', 'dim488', 'dim489', 'dim490', 'dim491', 'dim492', 'dim493', 'dim494', 'dim495', 'dim496', 'dim497', 'dim498', 'dim499', 'dim500']\n"
     ]
    }
   ],
   "source": [
    "# Your code goes here\n",
    "input_features = train_A.columns[1:501].values.tolist()\n",
    "print(input_features)"
   ]
  },
  {
   "cell_type": "markdown",
   "metadata": {},
   "source": [
    "### ========== Question 1.4 --- [1 mark] ==========\n",
    "By using the list from Question 1.3 now create 4 numpy arrays `X_tr`, `X_val`, `y_tr` and `y_val` and store the training features, validation features, training targets, and validation targets, respectively. Your target vectors should correspond to the `is_person` attribute of the training and validation sets (also make sure you do not include this attribute in your training features). Display the dimensionalities (i.e shapes) of the 4 arrays and make sure your input data are 500-dimensional."
   ]
  },
  {
   "cell_type": "code",
   "execution_count": 6,
   "metadata": {
    "collapsed": false
   },
   "outputs": [
    {
     "name": "stdout",
     "output_type": "stream",
     "text": [
      "X_tr shape: (1883, 500)\n",
      "y_tr shape: (1883,)\n",
      "X_val shape: (210, 500)\n",
      "y_val shape: (210,)\n"
     ]
    }
   ],
   "source": [
    "#pull input features and target\n",
    "X = train_A[input_features]\n",
    "y = train_A['is_person']\n",
    "\n",
    "\n",
    "#split into validation sets and training sets\n",
    "X_tr, X_val, y_tr, y_val = train_test_split(X, y, train_size = 0.9, test_size=0.1, random_state=0)\n",
    "\n",
    "#print details\n",
    "print('X_tr shape: {}'.format(np.shape(X_tr)))\n",
    "print('y_tr shape: {}'.format(np.shape(y_tr)))\n",
    "print('X_val shape: {}'.format(np.shape(X_val)))\n",
    "print('y_val shape: {}'.format(np.shape(y_val)))"
   ]
  },
  {
   "cell_type": "markdown",
   "metadata": {},
   "source": [
    "### ========== Question 1.5 ==========\n",
    "Show two [countplots](https://seaborn.github.io/generated/seaborn.countplot.html?highlight=countplot#seaborn.countplot) of the targets in a single plot, one for the training and one for the validation set. Label axes appropriately and add a title to your plot. Use descriptive `xticklabels` instead of the default numeric ones."
   ]
  },
  {
   "cell_type": "code",
   "execution_count": 7,
   "metadata": {
    "collapsed": false
   },
   "outputs": [
    {
     "data": {
      "image/png": "[encoded data removed]",
      "text/plain": [
       "<matplotlib.figure.Figure at 0x117c206d0>"
      ]
     },
     "metadata": {},
     "output_type": "display_data"
    }
   ],
   "source": [
    "fig = plt.figure()\n",
    "\n",
    "cp_tr = fig.add_subplot(222)\n",
    "cp_tr = sns.countplot(x=y_tr)\n",
    "cp_tr.set_title('y Training')\n",
    "\n",
    "cp_val = fig.add_subplot(221)\n",
    "cp_val = sns.countplot(x=y_val)\n",
    "cp_val.set_title('y Validation')\n",
    "\n",
    "cp_val.set_xticklabels(['is not person', 'is person'])\n",
    "cp_tr.set_xticklabels(['is not person', 'is person'])\n",
    "\n",
    "fig.set_figwidth(14)\n",
    "fig.set_figheight(14)\n",
    "plt.show()"
   ]
  },
  {
   "cell_type": "markdown",
   "metadata": {},
   "source": [
    "### ========== Question 1.6 ==========\n",
    "What would be a good choice for a baseline classifier to compare your results in the next steps against? What classification accuracy score does the baseline classifier achieve in the validation set?"
   ]
  },
  {
   "cell_type": "markdown",
   "metadata": {},
   "source": [
    "We can simply use the prior. Thus, we would always predict that the image is not a person. A random image is more likely to be not a person.\n"
   ]
  },
  {
   "cell_type": "code",
   "execution_count": 8,
   "metadata": {
    "collapsed": false
   },
   "outputs": [
    {
     "name": "stdout",
     "output_type": "stream",
     "text": [
      "With this baseline classifier, the classification accuracy score would be ~0.538 for the validation set.\n"
     ]
    }
   ],
   "source": [
    "accuracy_score = 1 - sum(y_val)/y_val.shape[0]\n",
    "print (\"With this baseline classifier, the classification accuracy score would be ~{} for the validation set.\".format(accuracy_score.round(3)))"
   ]
  },
  {
   "cell_type": "markdown",
   "metadata": {},
   "source": [
    "### ========== Question 1.7 ==========\n",
    "Train a [`LogisticRegression`](http://scikit-learn.org/0.17/modules/generated/sklearn.linear_model.LogisticRegression.html) classifier by using default settings, except for the `solver` parameter which you should set to `lbfgs`. Report the classification accuracy score in the training and validation sets and compare to that of the baseline classifier. Comment in 1-2 sentences the results. You may include any additional plot(s) if you wish to justify your explanation."
   ]
  },
  {
   "cell_type": "code",
   "execution_count": 9,
   "metadata": {
    "collapsed": false
   },
   "outputs": [
    {
     "name": "stdout",
     "output_type": "stream",
     "text": [
      "Classification accuracy on training set: 0.552\n",
      "Classification accuracy on validation set: 0.538\n"
     ]
    }
   ],
   "source": [
    "# create the classifier\n",
    "logreg = LogisticRegression(solver='lbfgs')\n",
    "\n",
    "# fit the data.\n",
    "logreg.fit(X_tr, y_tr)\n",
    "\n",
    "print('Classification accuracy on training set: {:.3f}'.format(logreg.score(X_tr, y_tr)))\n",
    "print('Classification accuracy on validation set: {:.3f}'.format(logreg.score(X_val, y_val)))"
   ]
  },
  {
   "cell_type": "markdown",
   "metadata": {},
   "source": [
    "The accuracy of this is awful compared to the baseline. We need to scale data.\n",
    "\n",
    " "
   ]
  },
  {
   "cell_type": "markdown",
   "metadata": {},
   "source": [
    "### ========== Question 1.8 ==========\n",
    "Display the means and standard deviations of the first 5 features in the training set. *Hint: you want to compute the means and standard deviations across the columns of your arrays. Make sure you make appropriate use of the `axis` parameter.*"
   ]
  },
  {
   "cell_type": "code",
   "execution_count": 10,
   "metadata": {
    "collapsed": false
   },
   "outputs": [
    {
     "name": "stdout",
     "output_type": "stream",
     "text": [
      "dim1\n",
      "Mean: 0.00175 \n",
      "Standard Deviation: 0.00120\n",
      "\n",
      "dim2\n",
      "Mean: 0.00076 \n",
      "Standard Deviation: 0.00140\n",
      "\n",
      "dim3\n",
      "Mean: 0.00431 \n",
      "Standard Deviation: 0.00372\n",
      "\n",
      "dim4\n",
      "Mean: 0.00185 \n",
      "Standard Deviation: 0.00134\n",
      "\n",
      "dim5\n",
      "Mean: 0.00226 \n",
      "Standard Deviation: 0.00160\n",
      "\n"
     ]
    }
   ],
   "source": [
    "np.set_printoptions(precision=3)\n",
    "for i in range(5):\n",
    "    print('dim{}'.format(str(i+1)))\n",
    "    mean = X_tr['dim{}'.format(str(i+1))].mean()\n",
    "    std = X_tr['dim{}'.format(str(i+1))].std()\n",
    "    print(\"Mean: {:.5f} \\nStandard Deviation: {:.5f}\\n\".format(mean, std))"
   ]
  },
  {
   "cell_type": "markdown",
   "metadata": {},
   "source": [
    "### ========== Question 1.9 ==========\n",
    "Feature standardisation is a pre-processing technique used to transform data so that they have zero mean and unit standard deviation. For many algorithms, this is a very important step for training models (both regression and classification). Read about [feature standardisation](http://scikit-learn.org/0.17/modules/preprocessing.html) and make sure you understand what kind of transformation this method applies to the data.\n",
    "\n",
    "`Scikit-learn` offers an [implementation](http://scikit-learn.org/0.17/modules/generated/sklearn.preprocessing.StandardScaler.html) of feature standardisation. Create a standardiser and fit it by using training features only. Then transform both your input and validation input features. \n",
    "\n",
    "Once your training and validation input data have been transformed, display the means and standard deviations of the first 5 attributes for **both** the training and validation sets. Are the results as you expected? Explain your answer in 2-3 sentences. \n",
    "\n",
    "**IMPORTANT: You should use the transformed data for the rest of part A**."
   ]
  },
  {
   "cell_type": "code",
   "execution_count": 11,
   "metadata": {
    "collapsed": false
   },
   "outputs": [
    {
     "name": "stdout",
     "output_type": "stream",
     "text": [
      "dim1\n",
      "Mean Training: -0.00000 \n",
      "Standard Deviation Training: 1.00000\n",
      "\n",
      "dim2\n",
      "Mean Training: -0.00000 \n",
      "Standard Deviation Training: 1.00000\n",
      "\n",
      "dim3\n",
      "Mean Training: -0.00000 \n",
      "Standard Deviation Training: 1.00000\n",
      "\n",
      "dim4\n",
      "Mean Training: -0.00000 \n",
      "Standard Deviation Training: 1.00000\n",
      "\n",
      "dim5\n",
      "Mean Training: 0.00000 \n",
      "Standard Deviation Training: 1.00000\n",
      "\n",
      "__________________________________________\n",
      "__________________________________________\n",
      "\n",
      "dim1\n",
      "Mean Validation: 0.01602 \n",
      "Standard Deviation Validation: 0.94242\n",
      "\n",
      "dim2\n",
      "Mean Validation: 0.00588 \n",
      "Standard Deviation Validation: 1.02806\n",
      "\n",
      "dim3\n",
      "Mean Validation: 0.02936 \n",
      "Standard Deviation Validation: 0.93654\n",
      "\n",
      "dim4\n",
      "Mean Validation: 0.03111 \n",
      "Standard Deviation Validation: 1.02519\n",
      "\n",
      "dim5\n",
      "Mean Validation: 0.08388 \n",
      "Standard Deviation Validation: 0.97137\n",
      "\n"
     ]
    }
   ],
   "source": [
    "scaler = StandardScaler().fit(X_tr)\n",
    "X_tr = scaler.transform(X_tr)\n",
    "X_val = scaler.transform(X_val)\n",
    "\n",
    "for i in range(5):\n",
    "    print('dim{}'.format(str(i+1)))\n",
    "    mean = X_tr[:,i].mean()\n",
    "    std = X_tr[:,i].std()\n",
    "    print(\"Mean Training: {:.5f} \\nStandard Deviation Training: {:.5f}\\n\".format(mean, std))\n",
    "    \n",
    "print(\"__________________________________________\\n__________________________________________\\n\")\n",
    "\n",
    "for i in range(5):\n",
    "    print('dim{}'.format(str(i+1)))\n",
    "    mean = X_val[:,i].mean()\n",
    "    std = X_val[:,i].std()\n",
    "    print(\"Mean Validation: {:.5f} \\nStandard Deviation Validation: {:.5f}\\n\".format(mean, std))\n",
    "    "
   ]
  },
  {
   "cell_type": "markdown",
   "metadata": {},
   "source": [
    "Yes! These results make sense. For the training set, which our scaler was fit to, the standard deviations are exactly 1 and means are exactly 0. Our validation set is similar to the training set but not exactly the same so it makes sense that the means/stds are slightly different but still close to 0.0/1.0 ! :)"
   ]
  },
  {
   "cell_type": "markdown",
   "metadata": {},
   "source": [
    "### ========== Question 1.10 ==========\n",
    "By using the transformed input data, retrain a `LogisticRegression` classifier. Again, set the `solver` parameter to `lbfgs` and use default settings for the other parameters. Report the classification accuracy in both the training and validation sets. How does your model compare to the baseline classifier from Question 1.6? You may use additional plot(s) to support your explanation."
   ]
  },
  {
   "cell_type": "code",
   "execution_count": 12,
   "metadata": {
    "collapsed": false
   },
   "outputs": [
    {
     "name": "stdout",
     "output_type": "stream",
     "text": [
      "Classification accuracy on preprocessed training set: 0.834\n",
      "Classification accuracy on preprocessed validation set: 0.600\n"
     ]
    }
   ],
   "source": [
    "logreg.fit(X_tr, y_tr)\n",
    "\n",
    "print('Classification accuracy on preprocessed training set: {:.3f}'.format(logreg.score(X_tr, y_tr)))\n",
    "print('Classification accuracy on preprocessed validation set: {:.3f}'.format(logreg.score(X_val, y_val)))"
   ]
  },
  {
   "cell_type": "markdown",
   "metadata": {},
   "source": [
    "Our classifier does much better on the training set and slightly better on the validation set. This is certainly an improvement and now it outperforms the baseline classifier which is a good sign.\n"
   ]
  },
  {
   "cell_type": "markdown",
   "metadata": {},
   "source": [
    "### ========== Question 1.11 ==========\n",
    "So far we have used default settings for training the logistic regression classifier. Now, we want to use [K-fold cross-validation](http://scikit-learn.org/0.17/modules/generated/sklearn.cross_validation.KFold.html) to optimise the regularisation parameter `C`. The regularisation parameter controls the degree to which we wish to penalise large magnitudes for the weight vector. Thus, it helps us prevent overfitting and, for logistic regression, it additionally controls the level of confidence in making predictions.\n",
    "\n",
    "We would like to optimise this parameter **by using the transformed training dataset only** and not the validation set. Create a 3-fold cross-validation object for the training dataset. Set the `shuffle` parameter to `True` and the `random_state` to `0`. By using the cross-validation iterator, display the number of test samples in each iteration fold."
   ]
  },
  {
   "cell_type": "code",
   "execution_count": 13,
   "metadata": {
    "collapsed": false
   },
   "outputs": [
    {
     "name": "stdout",
     "output_type": "stream",
     "text": [
      "Fold #1:\n",
      "Number of Training Points: 1255 \n",
      "Number of Test Points: 628\n",
      "Percent is_person Train: 44.78%\n",
      "Percent is_person Test: 44.75%\n",
      "\n",
      "Fold #2:\n",
      "Number of Training Points: 1255 \n",
      "Number of Test Points: 628\n",
      "Percent is_person Train: 44.46%\n",
      "Percent is_person Test: 45.38%\n",
      "\n",
      "Fold #3:\n",
      "Number of Training Points: 1256 \n",
      "Number of Test Points: 627\n",
      "Percent is_person Train: 45.06%\n",
      "Percent is_person Test: 44.18%\n",
      "\n"
     ]
    }
   ],
   "source": [
    "kf = KFold(X_tr.shape[0], n_folds=3, shuffle=True, random_state=0)\n",
    "i = 1\n",
    "for train, test in kf:\n",
    "    train_X = X_tr[train, :]; train_y = y_tr.iloc[train] # split training set\n",
    "    test_X = X_tr[test, :]; test_y = y_tr.iloc[test] # split test set\n",
    "    print(\"Fold #{}:\\nNumber of Training Points: {} \\nNumber of Test Points: {}\".format(i, train_X.shape[0], test_X.shape[0]))\n",
    "    print(\"Percent is_person Train: {}%\".format(round(100.0 * train_y.mean(),2)))\n",
    "    print(\"Percent is_person Test: {}%\\n\".format(round(100.0 * test_y.mean(),2)))\n",
    "    i = i + 1"
   ]
  },
  {
   "cell_type": "markdown",
   "metadata": {},
   "source": [
    "### ========== Question 1.12 ========== \n",
    "Now we want to test out different settings for the regularisation parameter `C` by using the cross-validation iterator from the previous question. For each iteration, we want to train multiple classifiers by using a range of values for `C` and then compute the performance within each CV fold. You should use a log-range for `C` from `1e-5` to `1e5` by using 20 equally-spaced values *(hint: look at the `logspace()` function in numpy)*. \n",
    "\n",
    "Create a 2-dimensional array and, for each cross-validation fold and parameter setting pair, compute and store the classification accuracy score e.g. store the score of fold 0 with parameter setting 1 at score_array[0,1]. As previously, set the `solver` parameter to `lbfgs` and use default settings for the other parameters.\n",
    "\n",
    "*(hint: your may want to use two loops in your code; one iterating over CV folds and another one iterating over the values for `C`)*. "
   ]
  },
  {
   "cell_type": "code",
   "execution_count": 14,
   "metadata": {
    "collapsed": false
   },
   "outputs": [
    {
     "name": "stdout",
     "output_type": "stream",
     "text": [
      "[[ 0.553  0.629  0.666  0.689  0.705  0.707  0.694  0.664  0.635  0.637\n",
      "   0.621  0.621  0.623  0.621  0.621  0.619  0.621  0.619  0.619  0.621]\n",
      " [ 0.546  0.632  0.662  0.674  0.68   0.707  0.691  0.674  0.651  0.637\n",
      "   0.616  0.599  0.599  0.591  0.584  0.586  0.586  0.586  0.586  0.586]\n",
      " [ 0.566  0.644  0.679  0.687  0.694  0.699  0.699  0.689  0.681  0.662\n",
      "   0.654  0.638  0.638  0.64   0.638  0.635  0.638  0.638  0.638  0.638]]\n"
     ]
    }
   ],
   "source": [
    "logspace = np.logspace(-5, 5, 20)\n",
    "foldnum = 0\n",
    "j = 0\n",
    "\n",
    "score_array = np.zeros([3,20]) #create empty array to score classification accuracies\n",
    "\n",
    "for train, test in kf:\n",
    "    train_X = X_tr[train, :]; train_y = y_tr.iloc[train] # split training set\n",
    "    test_X = X_tr[test, :]; test_y = y_tr.iloc[test] # split test set\n",
    "    foldnum = foldnum + 1\n",
    "    j=1\n",
    "    #print(\"\\n===============================\\n\")\n",
    "    \n",
    "    for c in logspace:\n",
    "            j = j + 1\n",
    "            logregtest = LogisticRegression(solver='lbfgs', C = c)\n",
    "            logregtest.fit(train_X, train_y)\n",
    "            validation_score = logregtest.score(test_X, test_y)\n",
    "            score_array[foldnum-1,j-2] = validation_score\n",
    "            #print(\"{}: KFold #{}     C: {:.5f}\".format(j-1, foldnum-1, c))\n",
    "            #print('Classification accuracy on preprocessed training set: {:.6f}'.format(logregtest.score(train_X, train_y)))\n",
    "            #print('Classification accuracy on preprocessed validation set: {:.6f}\\n'.format(validation_score))  \n",
    "\n",
    "print(score_array)"
   ]
  },
  {
   "cell_type": "markdown",
   "metadata": {},
   "source": [
    "### ========== Question 1.13 ========== \n",
    "Plot the mean classification performance (across CV folds) of the logistic regression classifier against the regularisation parameter `C` by using the range from Question 1.12. Use a logarithmic scale for the x-axis and label both axes appropriately. "
   ]
  },
  {
   "cell_type": "code",
   "execution_count": 15,
   "metadata": {
    "collapsed": false
   },
   "outputs": [
    {
     "data": {
      "text/plain": [
       "<function matplotlib.pyplot.show>"
      ]
     },
     "execution_count": 15,
     "metadata": {},
     "output_type": "execute_result"
    },
    {
     "data": {
      "image/png": "[encoded data removed]",
      "text/plain": [
       "<matplotlib.figure.Figure at 0x1189d6d90>"
      ]
     },
     "metadata": {},
     "output_type": "display_data"
    }
   ],
   "source": [
    "avg_scores = []\n",
    "for i in range(0,20):\n",
    "    avg_scores.append(np.mean(score_array[:,i]))\n",
    "    \n",
    "\n",
    "plt.semilogx(logspace, avg_scores)\n",
    "plt.xlabel(\"log c\")\n",
    "plt.ylabel(\"classification accuracy\")\n",
    "plt.title(\"Accuracy vs C paramater\")\n",
    "plt.show"
   ]
  },
  {
   "cell_type": "markdown",
   "metadata": {},
   "source": [
    "### ========== Question 1.14 ==========\n",
    "Find and display the optimal value for the regularisation parameter `C` of the logistic classifier by using your results from Question 1.12. Similarly to Question 1.13, consider the mean classifiation accuracy across CV folds. By using the optimal value (i.e. the one that yields the highest average classification accuracy) train a new `LogisticRegression` classifier and report the classification accuracy on the validation set. *(Hint: Do not pick the optimal value \"by hand\", instead use an appropriate numpy function).*"
   ]
  },
  {
   "cell_type": "code",
   "execution_count": 16,
   "metadata": {
    "collapsed": false
   },
   "outputs": [
    {
     "name": "stdout",
     "output_type": "stream",
     "text": [
      "Optimal C value: 0.00428133\n"
     ]
    }
   ],
   "source": [
    "best_index = avg_scores.index(max(avg_scores))\n",
    "optimalC = logspace[best_index]\n",
    "print(\"Optimal C value: {:.8f}\".format(optimalC))"
   ]
  },
  {
   "cell_type": "markdown",
   "metadata": {},
   "source": [
    "### ========== Question 1.15 ========== \n",
    "Scikit-learn offers a [`LogisticRegressionCV`](http://scikit-learn.org/0.17/modules/generated/sklearn.linear_model.LogisticRegressionCV.html) module which implements Logistic Regression with builtin cross-validation to find out the optimal `C` parameter. You can specify the range for the `C` parameter, as well as the cross-validation method you want to use with the `Cs` and `cv` parameters, respectively. Use the `C` range you set up in Question 1.12 and the 3-fold cross-validation iterator from Question 1.11. Once again, train the models by using the `lbfgs` optimisation method and display the optimal value for the parameter `C`. Finally, display the classification accuracy on the validation set. Can you verify that your results are consistent with those from Question 1.14?"
   ]
  },
  {
   "cell_type": "code",
   "execution_count": 17,
   "metadata": {
    "collapsed": false
   },
   "outputs": [
    {
     "name": "stdout",
     "output_type": "stream",
     "text": [
      "optimal C: [ 0.004]\n"
     ]
    }
   ],
   "source": [
    "logregCV = LogisticRegressionCV(Cs=logspace, cv = kf, solver='lbfgs')\n",
    "logregCV.fit(X_tr, y_tr)\n",
    "optimalC = logregCV.C_\n",
    "validation_score = logregtest.score(X_val, y_val)\n",
    "print(\"optimal C: {}\".format(optimalC))\n"
   ]
  },
  {
   "cell_type": "markdown",
   "metadata": {},
   "source": [
    "### ========== Question 1.16 ==========\n",
    "Now, we want to validate the importance of various features for classification. For this purpose, we will use a [`RandomForestClassifier`](http://scikit-learn.org/0.17/modules/generated/sklearn.ensemble.RandomForestClassifier.html) (you might want to refer to Lab_3 if you are unsure how we can estimate feature importances with decision tree and random forest models).\n",
    "\n",
    "Initialise a random forest classifier and fit the model by using training data only and 500 trees (i.e. `n_estimators`). Set the `RandomState` equal to 31 to ensure reproducible results. Report the accuracy score on both the training and validation sets."
   ]
  },
  {
   "cell_type": "code",
   "execution_count": 23,
   "metadata": {
    "collapsed": false
   },
   "outputs": [
    {
     "name": "stdout",
     "output_type": "stream",
     "text": [
      "Classification accuracy on training set: 1.0\n",
      "Classification accuracy on validation set: 0.642857142857\n"
     ]
    }
   ],
   "source": [
    "# Your code goes here\n",
    "rf = RandomForestClassifier(n_estimators=500, random_state = 31)\n",
    "rf.fit(X_tr, y_tr)\n",
    "prediction_training = rf.predict(X=X_tr)\n",
    "prediction_validation = rf.predict(X=X_val)\n",
    "print('Classification accuracy on training set: {}'.format(accuracy_score(y_tr, prediction_training)))\n",
    "print('Classification accuracy on validation set: {}'.format(accuracy_score(y_val, prediction_validation)))"
   ]
  },
  {
   "cell_type": "markdown",
   "metadata": {},
   "source": [
    "### ========== Question 1.17 ==========\n",
    "Comment on the results above. Do you find the discrepancy between training and validation accuracies surprising?"
   ]
  },
  {
   "cell_type": "markdown",
   "metadata": {},
   "source": [
    "The results make sense. The forest was perfectly successful on the training set, which makes sense because it is a decision tree classifier and it was reasonably successful on the validation set although not incredibly impressive. The discrepancy is not at all surprising as decision tree classifiers will inherantly overfit data.\n"
   ]
  },
  {
   "cell_type": "markdown",
   "metadata": {},
   "source": [
    "### ========== Question 1.18 ==========\n",
    "By using the random forest model from the previous question order the features by descending importance and display the names of the 50 most important features."
   ]
  },
  {
   "cell_type": "code",
   "execution_count": 24,
   "metadata": {
    "collapsed": false
   },
   "outputs": [
    {
     "name": "stdout",
     "output_type": "stream",
     "text": [
      "50 Most Important Features\n",
      "\n",
      "1: dim21  (Importance: 0.008544)\n",
      "2: dim479  (Importance: 0.008530)\n",
      "3: dim343  (Importance: 0.007043)\n",
      "4: dim4  (Importance: 0.006903)\n",
      "5: dim461  (Importance: 0.006462)\n",
      "6: dim76  (Importance: 0.006304)\n",
      "7: dim360  (Importance: 0.006250)\n",
      "8: dim283  (Importance: 0.006034)\n",
      "9: dim51  (Importance: 0.005966)\n",
      "10: dim74  (Importance: 0.005150)\n",
      "11: dim485  (Importance: 0.005147)\n",
      "12: dim348  (Importance: 0.004960)\n",
      "13: dim356  (Importance: 0.004923)\n",
      "14: dim92  (Importance: 0.004608)\n",
      "15: dim483  (Importance: 0.004601)\n",
      "16: dim330  (Importance: 0.004597)\n",
      "17: dim263  (Importance: 0.004453)\n",
      "18: dim398  (Importance: 0.004433)\n",
      "19: dim96  (Importance: 0.004392)\n",
      "20: dim54  (Importance: 0.004272)\n",
      "21: dim222  (Importance: 0.004173)\n",
      "22: dim274  (Importance: 0.004164)\n",
      "23: dim154  (Importance: 0.003964)\n",
      "24: dim288  (Importance: 0.003924)\n",
      "25: dim73  (Importance: 0.003793)\n",
      "26: dim217  (Importance: 0.003782)\n",
      "27: dim17  (Importance: 0.003684)\n",
      "28: dim289  (Importance: 0.003630)\n",
      "29: dim353  (Importance: 0.003617)\n",
      "30: dim214  (Importance: 0.003602)\n",
      "31: dim257  (Importance: 0.003593)\n",
      "32: dim85  (Importance: 0.003561)\n",
      "33: dim282  (Importance: 0.003561)\n",
      "34: dim48  (Importance: 0.003527)\n",
      "35: dim312  (Importance: 0.003508)\n",
      "36: dim25  (Importance: 0.003502)\n",
      "37: dim347  (Importance: 0.003485)\n",
      "38: dim153  (Importance: 0.003449)\n",
      "39: dim157  (Importance: 0.003398)\n",
      "40: dim500  (Importance: 0.003372)\n",
      "41: dim254  (Importance: 0.003358)\n",
      "42: dim326  (Importance: 0.003209)\n",
      "43: dim442  (Importance: 0.003201)\n",
      "44: dim90  (Importance: 0.003103)\n",
      "45: dim423  (Importance: 0.003103)\n",
      "46: dim271  (Importance: 0.003079)\n",
      "47: dim206  (Importance: 0.003021)\n",
      "48: dim15  (Importance: 0.003021)\n",
      "49: dim344  (Importance: 0.003002)\n",
      "50: dim294  (Importance: 0.002976)\n"
     ]
    }
   ],
   "source": [
    "importance_array = rf.feature_importances_\n",
    "best_indicies = np.argsort(importance_array)[::-1]\n",
    "\n",
    "print(\"50 Most Important Features\\n\")\n",
    "for i in range(0,50):\n",
    "    index = best_indicies[i]\n",
    "    dim = input_features[index]\n",
    "    importance = importance_array[index]\n",
    "    print(\"{}: {}  (Importance: {:.6f})\".format(i+1, dim, importance))\n"
   ]
  },
  {
   "cell_type": "markdown",
   "metadata": {},
   "source": [
    "### ========== Question 1.19 ==========\n",
    "Next, we would like to test out the performance of support vector classification and experiment with different kernels. \n",
    "By using training data only and default parameter settings, train three support vector classifiers with the following kernels: linear, radial basis function, and polynomial. Report the classification accuracy of each of the three classifiers on both the training and validation sets."
   ]
  },
  {
   "cell_type": "code",
   "execution_count": 25,
   "metadata": {
    "collapsed": false
   },
   "outputs": [
    {
     "data": {
      "text/plain": [
       "SVC(C=1.0, cache_size=200, class_weight=None, coef0=0.0,\n",
       "  decision_function_shape=None, degree=3, gamma='auto', kernel='poly',\n",
       "  max_iter=-1, probability=False, random_state=0, shrinking=True,\n",
       "  tol=0.001, verbose=False)"
      ]
     },
     "execution_count": 25,
     "metadata": {},
     "output_type": "execute_result"
    }
   ],
   "source": [
    "# build and fit different support vector classifiers\n",
    "svc_rbf = SVC(kernel='rbf', random_state = 0)\n",
    "svc_rbf.fit(X_tr, y_tr)\n",
    "\n",
    "svc_linear = SVC(kernel='linear', random_state = 0)\n",
    "svc_linear.fit(X_tr, y_tr)\n",
    "\n",
    "svc_poly = SVC(kernel='poly', random_state = 0)\n",
    "svc_poly.fit(X_tr, y_tr)\n"
   ]
  },
  {
   "cell_type": "code",
   "execution_count": 26,
   "metadata": {
    "collapsed": false
   },
   "outputs": [
    {
     "name": "stdout",
     "output_type": "stream",
     "text": [
      "Accuracies of Different Types of Support Vector Classifiers on Training and Validation Sets:\n",
      "RBF accuracy - training set: 0.91184\n",
      "RBF accuracy - validation set: 0.71429\n",
      "Linear accuracy - training set: 0.86564\n",
      "Linear accuracy - validation set: 0.60476\n",
      "Poly accuracy - training set: 0.99044\n",
      "Poly accuracy - validation set: 0.67619\n"
     ]
    }
   ],
   "source": [
    "# Report classification accuracy of the training and validation sets\n",
    "print('Accuracies of Different Types of Support Vector Classifiers on Training and Validation Sets:')\n",
    "\n",
    "print('RBF accuracy - training set: {:.5f}'.format(svc_rbf.score(X_tr, y_tr)))\n",
    "print('RBF accuracy - validation set: {:.5f}'.format(svc_rbf.score(X_val, y_val)))\n",
    "\n",
    "print('Linear accuracy - training set: {:.5f}'.format(svc_linear.score(X_tr, y_tr)))\n",
    "print('Linear accuracy - validation set: {:.5f}'.format(svc_linear.score(X_val, y_val)))\n",
    "\n",
    "print('Poly accuracy - training set: {:.5f}'.format(svc_poly.score(X_tr, y_tr)))\n",
    "print('Poly accuracy - validation set: {:.5f}'.format(svc_poly.score(X_val, y_val)))"
   ]
  },
  {
   "cell_type": "markdown",
   "metadata": {},
   "source": [
    "### ========== Question 1.20 ==========\n",
    "At this point, we would like to get an idea of what kind of decision boundaries we can get with the three types of SVM kernels we introduced in the previous question. For visualisation, however, we can only make use of 2D input data. For this purpose, we select to use the 21st and 76th columns of our training features (*hint: remember that Python uses 0-based indexing*). \n",
    "\n",
    "Execute the cell below to define a useful function which we will be using to plot the decision boundaries *(it is also not a bad idea to try to understand what this functions does)*. \n",
    "\n",
    "Then train three distinct SVM classifiers by using the 2D input data mentioned above and default parameters:\n",
    "* a linear SVC\n",
    "* an RBF SVC \n",
    "* a polynomial SVC\n",
    "\n",
    "Finally, create a list containing the three classifiers you have just trained. Use this list as an input to the provided function along with the used training features and observe the outcome. You can use the additional `title` parameter to set the titles in the subplots. Comment on the results by using 1-2 sentences.\n",
    "\n",
    "*(Acknowledgement: this Question has been heavily based on [this example](http://scikit-learn.org/0.17/auto_examples/svm/plot_iris.html) from scikit-learn's documentation.)*"
   ]
  },
  {
   "cell_type": "code",
   "execution_count": 27,
   "metadata": {
    "collapsed": true
   },
   "outputs": [],
   "source": [
    "def show_svc_decision_boundaries(clfs, X, title=None):\n",
    "    \"\"\"Plots decision boundaries for classifiers with 2D inputs.\n",
    "    \n",
    "    Parameters\n",
    "    ----------\n",
    "    clf : list\n",
    "        Classifiers for which decision boundaries will be displayed.\n",
    "    X : array\n",
    "        Input features used to train the classifiers.\n",
    "    title : list, optional\n",
    "        Titles for classifiers.\n",
    "    \n",
    "    \"\"\"\n",
    "    \n",
    "    assert X.shape[1] == 2 # Input should be 2D\n",
    "    if title is not None:\n",
    "        assert len(clfs) == len(title)\n",
    "    \n",
    "    h = .04 # step size in the mesh\n",
    "    x_min, x_max = X[:, 0].min() - 1, X[:, 0].max() + 1\n",
    "    y_min, y_max = X[:, 1].min() - 1, X[:, 1].max() + 1\n",
    "    xx, yy = np.meshgrid(np.arange(x_min, x_max, h),\n",
    "                         np.arange(y_min, y_max, h))\n",
    "    plt.figure(figsize=(15,5))\n",
    "    for i, clf in enumerate(clfs):\n",
    "        plt.subplot(1, len(clfs), i + 1)\n",
    "        plt.subplots_adjust(wspace=0.4, hspace=0.4)\n",
    "        Z = clf.predict(np.c_[xx.ravel(), yy.ravel()])\n",
    "        Z = Z.reshape(xx.shape)\n",
    "        plt.contourf(xx, yy, Z, cmap=plt.cm.Paired, alpha=0.8)\n",
    "        # Training points\n",
    "        plt.scatter(X[:, 0], X[:, 1], c=y_tr, cmap=plt.cm.Paired)\n",
    "        plt.xlabel('Feature 1')\n",
    "        plt.ylabel('Feature 2')\n",
    "        plt.xlim(xx.min(), xx.max())\n",
    "        plt.ylim(yy.min(), yy.max())\n",
    "        plt.xticks(())\n",
    "        plt.yticks(())\n",
    "        if title is not None:\n",
    "            plt.title(title[i])"
   ]
  },
  {
   "cell_type": "code",
   "execution_count": 28,
   "metadata": {
    "collapsed": false
   },
   "outputs": [
    {
     "data": {
      "image/png": "[encoded data removed]",
      "text/plain": [
       "<matplotlib.figure.Figure at 0x11f5b74d0>"
      ]
     },
     "metadata": {},
     "output_type": "display_data"
    }
   ],
   "source": [
    "X_tr_2d = X_tr[:, [20,75]]\n",
    "\n",
    "svc_rbf_2d = SVC(kernel='rbf', random_state = 0)\n",
    "svc_rbf_2d.fit(X_tr_2d, y_tr)\n",
    "\n",
    "svc_linear_2d = SVC(kernel='linear', random_state = 0)\n",
    "svc_linear_2d.fit(X_tr_2d, y_tr)\n",
    "\n",
    "svc_poly_2d = SVC(kernel='poly', random_state = 0)\n",
    "svc_poly_2d.fit(X_tr_2d, y_tr)\n",
    "\n",
    "classifiers = [svc_linear_2d, svc_poly_2d, svc_rbf_2d]\n",
    "titles = ['Linear', 'Polynomial', 'Radial Basis']\n",
    "show_svc_decision_boundaries(clfs = classifiers, X = X_tr_2d, title=titles)"
   ]
  },
  {
   "cell_type": "markdown",
   "metadata": {},
   "source": [
    "These look like they correctly classify 55-70% of the data which is exactly what our accuracy scores said so they are consistent. Radial basis had the highest accuracy and seems to have the best decision boundary so that makes sense. (vice versa for linear!)\n"
   ]
  },
  {
   "cell_type": "markdown",
   "metadata": {},
   "source": [
    "### ========== Question 1.21 ==========\n",
    "So far we have used default parameters for training the SVM classifiers. Now we want to tune the parameters by using cross-validation. \n",
    "\n",
    "By using the `K-fold` iterator from Question 1.11 and training data only, estimate the classification accuracy of an SVM classifier with RBF kernel, while you vary the penalty parameter `C` in a logarithmic range `np.logspace(-2, 3, 10)`. Set the kernel coefficient parameter `gamma` to `auto` for this question. \n",
    "\n",
    "Plot the mean cross-validated classification accuracy against the regularisation parameter `C` by using a log-scale for the x-axis. Display the highest obtained mean accuracy score and the value of `C` which yielded it. Label axes appropriately. \n",
    "\n",
    "Finally, train a classifier by using the optimal value for this parameter (without using cross-validation at this stage) and report the classification accuracy on the training and validation sets. "
   ]
  },
  {
   "cell_type": "code",
   "execution_count": 29,
   "metadata": {
    "collapsed": false
   },
   "outputs": [
    {
     "name": "stdout",
     "output_type": "stream",
     "text": [
      "[[ 0.553  0.554  0.683  0.709  0.713  0.704  0.704  0.704  0.704  0.704]\n",
      " [ 0.546  0.546  0.693  0.717  0.723  0.71   0.71   0.71   0.71   0.71 ]\n",
      " [ 0.558  0.558  0.713  0.737  0.711  0.699  0.699  0.699  0.699  0.699]]\n"
     ]
    }
   ],
   "source": [
    "logspace = np.logspace(-2, 3, 10)\n",
    "foldnum = 0\n",
    "j = 0\n",
    "\n",
    "score_array = np.zeros([3,10]) #create empty array to score classification accuracies\n",
    "\n",
    "for train, test in kf:\n",
    "    train_X = X_tr[train, :]; train_y = y_tr.iloc[train] # split training set\n",
    "    test_X = X_tr[test, :]; test_y = y_tr.iloc[test] # split test set\n",
    "    foldnum = foldnum + 1\n",
    "    j=1\n",
    "    #print(\"\\n===============================\\n\")\n",
    "    \n",
    "    for c in logspace:\n",
    "            j = j + 1\n",
    "            svc = SVC(C = c, kernel='rbf', random_state = 0, gamma = 'auto')\n",
    "            svc.fit(train_X, train_y)\n",
    "            validation_score = svc.score(test_X, test_y)\n",
    "            score_array[foldnum-1,j-2] = validation_score\n",
    "            #print(\"{}: KFold #{}     C: {:.5f}\".format(j-1, foldnum-1, c))\n",
    "            #print('Classification accuracy on preprocessed training set: {:.6f}'.format(svc.score(train_X, train_y)))\n",
    "            #print('Classification accuracy on preprocessed validation set: {:.6f}\\n'.format(validation_score))  \n",
    "\n",
    "print(score_array)"
   ]
  },
  {
   "cell_type": "code",
   "execution_count": 30,
   "metadata": {
    "collapsed": false
   },
   "outputs": [
    {
     "name": "stdout",
     "output_type": "stream",
     "text": [
      "Optimal C value: 0.46415888\n",
      "Classification accuracy on preprocessed training set: 0.828465\n",
      "Classification accuracy on preprocessed validation set: 0.680952\n",
      "\n"
     ]
    },
    {
     "data": {
      "image/png": "[encoded data removed]",
      "text/plain": [
       "<matplotlib.figure.Figure at 0x11aeb1f10>"
      ]
     },
     "metadata": {},
     "output_type": "display_data"
    }
   ],
   "source": [
    "avg_scores = []\n",
    "for i in range(0,10):\n",
    "    avg_scores.append(np.mean(score_array[:,i]))\n",
    "    \n",
    "\n",
    "plt.semilogx(logspace, avg_scores)\n",
    "plt.xlabel(\"log c\")\n",
    "plt.ylabel(\"classification accuracy\")\n",
    "plt.title(\"Accuracy vs C paramater\")\n",
    "plt.show\n",
    "\n",
    "best_index = avg_scores.index(max(avg_scores))\n",
    "optimalC = logspace[best_index]\n",
    "print(\"Optimal C value: {:.8f}\".format(optimalC))\n",
    "\n",
    "svc = SVC(C = optimalC, kernel='rbf', random_state = 0, gamma = 'auto')\n",
    "svc.fit(X_tr, y_tr)\n",
    "validation_score = svc.score(X_val, y_val)\n",
    "print('Classification accuracy on preprocessed training set: {:.6f}'.format(svc.score(X_tr, y_tr)))\n",
    "print('Classification accuracy on preprocessed validation set: {:.6f}\\n'.format(validation_score))  \n"
   ]
  },
  {
   "cell_type": "markdown",
   "metadata": {},
   "source": [
    "### ========== Question 1.22 ==========\n",
    "Now we turn to the kernel coefficient `gamma` parameter. By using the same procedure as in the previous question, estimate the classification accuracy of an SVM classifier with RBF kernel while you vary the `gamma` parameter in a logarithmic range `logspace(-5, 0, 10)`. Fix the penalty parameter `C=1.0`.\n",
    "\n",
    "Plot the mean cross-validated classification accuracy against the parameter `gamma` by using a log-scale for the x-axis. Display the highest obtained mean accuracy score and the value of `gamma` which yielded it.  Label axes appropriately.\n",
    "\n",
    "Finally, train a classifier by using the optimal value for this parameter (without using cross-validation at this stage) and report the classification accuracy on the training and validation sets. "
   ]
  },
  {
   "cell_type": "code",
   "execution_count": 31,
   "metadata": {
    "collapsed": false
   },
   "outputs": [
    {
     "name": "stdout",
     "output_type": "stream",
     "text": [
      "[[ 0.553  0.654  0.691  0.718  0.728  0.694  0.553  0.553  0.553  0.553]\n",
      " [ 0.546  0.659  0.685  0.709  0.726  0.71   0.548  0.546  0.546  0.546]\n",
      " [ 0.558  0.681  0.711  0.71   0.732  0.716  0.56   0.558  0.558  0.558]]\n"
     ]
    }
   ],
   "source": [
    "logspace = np.logspace(-5, 0, 10)\n",
    "foldnum = 0\n",
    "j = 0\n",
    "\n",
    "score_array = np.zeros([3,10]) #create empty array to score classification accuracies\n",
    "\n",
    "for train, test in kf:\n",
    "    train_X = X_tr[train, :]; train_y = y_tr.iloc[train] # split training set\n",
    "    test_X = X_tr[test, :]; test_y = y_tr.iloc[test] # split test set\n",
    "    foldnum = foldnum + 1\n",
    "    j=1\n",
    "    #print(\"\\n===============================\\n\")\n",
    "    \n",
    "    for g in logspace:\n",
    "            j = j + 1\n",
    "            svc = SVC(C = 1.0, kernel='rbf', random_state = 0, gamma = g)\n",
    "            svc.fit(train_X, train_y)\n",
    "            validation_score = svc.score(test_X, test_y)\n",
    "            score_array[foldnum-1,j-2] = validation_score\n",
    "            #print(\"{}: KFold #{}     Gamma: {:.5f}\".format(j-1, foldnum-1, c))\n",
    "            #print('Classification accuracy on preprocessed training set: {:.6f}'.format(svc.score(train_X, train_y)))\n",
    "            #print('Classification accuracy on preprocessed validation set: {:.6f}\\n'.format(validation_score))  \n",
    "\n",
    "print(score_array)"
   ]
  },
  {
   "cell_type": "code",
   "execution_count": 33,
   "metadata": {
    "collapsed": false
   },
   "outputs": [
    {
     "name": "stdout",
     "output_type": "stream",
     "text": [
      "Optimal gamma value: 0.00166810\n",
      "Classification accuracy on preprocessed training set: 0.886352\n",
      "Classification accuracy on preprocessed validation set: 0.690476\n",
      "\n"
     ]
    },
    {
     "data": {
      "image/png": "[encoded data removed]",
      "text/plain": [
       "<matplotlib.figure.Figure at 0x11f697190>"
      ]
     },
     "metadata": {},
     "output_type": "display_data"
    }
   ],
   "source": [
    "avg_scores = []\n",
    "for i in range(0,10):\n",
    "    avg_scores.append(np.mean(score_array[:,i]))\n",
    "    \n",
    "\n",
    "plt.semilogx(logspace, avg_scores)\n",
    "plt.xlabel(\"log gamma\")\n",
    "plt.ylabel(\"classification accuracy\")\n",
    "plt.title(\"Accuracy vs Gamma paramater\")\n",
    "plt.show\n",
    "\n",
    "best_index = avg_scores.index(max(avg_scores))\n",
    "optimal_gamma = logspace[best_index]\n",
    "print(\"Optimal gamma value: {:.8f}\".format(optimal_gamma))\n",
    "\n",
    "svc = SVC(C = 1.0, kernel='rbf', random_state = 0, gamma = optimal_gamma)\n",
    "svc.fit(X_tr, y_tr)\n",
    "validation_score = svc.score(X_val, y_val)\n",
    "print('Classification accuracy on preprocessed training set: {:.6f}'.format(svc.score(X_tr, y_tr)))\n",
    "print('Classification accuracy on preprocessed validation set: {:.6f}\\n'.format(validation_score))  \n"
   ]
  },
  {
   "cell_type": "markdown",
   "metadata": {},
   "source": [
    "### ========== Question 1.23 ==========\n",
    "Now we wish to tune both the `C` and `gamma` parameters simultaneously. To save computational time, we will now constrain the parameter search space. Define a `4 X 4` grid for the two parameters, as follows:\n",
    "* `C`: `np.logspace(-2, 1, 4)`\n",
    "* `gamma`: `np.logspace(-4, -1, 4)`\n",
    "\n",
    "Estimate the mean cross-validated classification accuracy by using training data only and all possible configurations for the two parameters. \n",
    "\n",
    "Use a [heatmap](https://seaborn.github.io/generated/seaborn.heatmap.html?highlight=heatmap#seaborn.heatmap) to visualise the mean cross-validated classification accuracy for all `C`-`gamma` pairs. Label axes appropriately and display the values for `C` and `gamma` for the best performing configuration. \n",
    "\n",
    "Finally, by using the optimal configuration, train a classifier (without using cross-validation) and report the classification accuracy on the training and validation sets."
   ]
  },
  {
   "cell_type": "code",
   "execution_count": 37,
   "metadata": {
    "collapsed": false
   },
   "outputs": [
    {
     "name": "stdout",
     "output_type": "stream",
     "text": [
      "Task complete.\n"
     ]
    }
   ],
   "source": [
    "logspace_gamma = np.logspace(-4, -1, 4)\n",
    "logspace_c = np.logspace(-2, 1, 4)\n",
    "score_array = np.zeros([3,4,4])\n",
    "foldnum = 0\n",
    "g_num = 0\n",
    "c_num = 0\n",
    "\n",
    "for train, test in kf:\n",
    "    train_X = X_tr[train, :]; train_y = y_tr.iloc[train] # split training set\n",
    "    test_X = X_tr[test, :]; test_y = y_tr.iloc[test] # split test set\n",
    "\n",
    "    for g in logspace_gamma:\n",
    "        for c in logspace_c:\n",
    "            svc = SVC(C = c, kernel='rbf', random_state = 0, gamma = g)\n",
    "            svc.fit(train_X, train_y)\n",
    "            validation_score = svc.score(test_X, test_y)\n",
    "            score_array[foldnum, c_num, g_num] = validation_score\n",
    "            c_num += 1\n",
    "        c_num = 0\n",
    "        g_num += 1\n",
    "    g_num = 0\n",
    "    foldnum += 1\n",
    "    \n",
    "print(\"Task complete.\")"
   ]
  },
  {
   "cell_type": "code",
   "execution_count": 38,
   "metadata": {
    "collapsed": false
   },
   "outputs": [
    {
     "name": "stdout",
     "output_type": "stream",
     "text": [
      "Optimal gamma value: 0.001\n",
      "Optimal c value: 1.000\n",
      "Classification accuracy on preprocessed training set: 0.833776\n",
      "Classification accuracy on preprocessed validation set: 0.690476\n",
      "\n"
     ]
    },
    {
     "data": {
      "image/png": "[encoded data removed]",
      "text/plain": [
       "<matplotlib.figure.Figure at 0x1196da890>"
      ]
     },
     "metadata": {},
     "output_type": "display_data"
    }
   ],
   "source": [
    "avg_scores = np.zeros([4,4])\n",
    "for i in range(0,4):\n",
    "    for j in range(0,4):\n",
    "        avg_scores[i,j] = np.mean(score_array[:,i,j])\n",
    "    \n",
    "ax = heatmap(avg_scores, annot = True)\n",
    "ax.set_xticklabels(np.logspace(1, -2, 4))\n",
    "ax.set_yticklabels(logspace_gamma)\n",
    "ax.set_xlabel(\"C paramater\")\n",
    "ax.set_ylabel(\"Gamma paramater\")\n",
    "ax.set_title(\"Accuracy vs Gamma and C paramaters\")\n",
    "\n",
    "best_index = np.argmax(avg_scores)\n",
    "best_indicies = unravel_index(avg_scores.argmax(), avg_scores.shape)\n",
    "optimal_gamma = logspace_gamma[best_indicies[1]]\n",
    "optimal_c = logspace_c[best_indicies[0]]\n",
    "\n",
    "print(\"Optimal gamma value: {:.3f}\".format(optimal_gamma))\n",
    "print(\"Optimal c value: {:.3f}\".format(optimal_c))\n",
    "\n",
    "svc = SVC(C = optimal_c, kernel='rbf', random_state = 0, gamma = optimal_gamma)\n",
    "svc.fit(X_tr, y_tr)\n",
    "validation_score = svc.score(X_val, y_val)\n",
    "print('Classification accuracy on preprocessed training set: {:.6f}'.format(svc.score(X_tr, y_tr)))\n",
    "print('Classification accuracy on preprocessed validation set: {:.6f}\\n'.format(validation_score))  \n"
   ]
  },
  {
   "cell_type": "markdown",
   "metadata": {},
   "source": [
    "### ========== Question 1.24 ==========\n",
    "Is the classification accuracy on the validation set higher than in previous questions (1.22-1.23)? If not, can you explain why? Can you think of a way of further improving the performance of the classifier? You don't need to implement your suggestion at this stage. Would there be any associated problems with your suggested approach? "
   ]
  },
  {
   "cell_type": "markdown",
   "metadata": {},
   "source": [
    "Our accuracy is not significantly higher! \n",
    "\n",
    "In theory it should be. We found optimal c values and gamma values earlier but those were not an optimal *combination* of values.\n",
    "\n",
    "We could look closely around our previous optimum points and then iterate very close to them for better results. I will try that in part 2."
   ]
  },
  {
   "cell_type": "markdown",
   "metadata": {},
   "source": [
    "### ========== Question 1.25 ==========\n",
    "Now we want to evaluate the performance of an SVM classifier with polynomial kernel. Once again, we will tune the `degree` parameter by using cross-validation (similarly to what we did in Questions 1.21 and 1.22).\n",
    "\n",
    "By using the `K-fold` iterator from Question 1.11 and training data only, estimate the classification accuracy of polynomial SVM classifier, while you vary the `degree` parameter in the range `np.arange(1,8)`. \n",
    "\n",
    "Plot the mean cross-validated classification accuracy against the polynomial degree. Display the highest obtained mean accuracy score and the value of the `degree` parameter which yielded it. Label axes appropriately. \n",
    "\n",
    "Finally, train a classifier by using the optimal value for this parameter (without using cross-validation at this stage) and report the classification accuracy on the training and validation sets. "
   ]
  },
  {
   "cell_type": "code",
   "execution_count": 43,
   "metadata": {
    "collapsed": false
   },
   "outputs": [
    {
     "name": "stdout",
     "output_type": "stream",
     "text": [
      "[[ 0.712  0.656  0.693  0.627  0.613  0.564  0.527]\n",
      " [ 0.723  0.675  0.689  0.654  0.591  0.57   0.559]\n",
      " [ 0.695  0.692  0.675  0.609  0.585  0.577  0.569]]\n"
     ]
    }
   ],
   "source": [
    "degrees = np.arange(1,8)\n",
    "foldnum = 0\n",
    "j = 0\n",
    "score_array = np.zeros([3,7]) #create empty array to score classification accuracies\n",
    "\n",
    "for train, test in kf:\n",
    "    train_X = X_tr[train, :]; train_y = y_tr.iloc[train] # split training set\n",
    "    test_X = X_tr[test, :]; test_y = y_tr.iloc[test] # split test set\n",
    "    foldnum = foldnum + 1\n",
    "    j=1\n",
    "    \n",
    "    for d in degrees:\n",
    "            j = j + 1\n",
    "            svc = SVC(degree=d, kernel='poly',  random_state = 0)\n",
    "            svc.fit(train_X, train_y)\n",
    "            validation_score = svc.score(test_X, test_y)\n",
    "            score_array[foldnum-1,j-2] = validation_score\n",
    "            \n",
    "print(score_array)"
   ]
  },
  {
   "cell_type": "code",
   "execution_count": 46,
   "metadata": {
    "collapsed": false
   },
   "outputs": [
    {
     "name": "stdout",
     "output_type": "stream",
     "text": [
      "Optimal degree: 1.00000000\n",
      "Classification accuracy on preprocessed training set: 0.790759\n",
      "Classification accuracy on preprocessed validation set: 0.638095\n",
      "\n"
     ]
    },
    {
     "data": {
      "image/png": "[encoded data removed]",
      "text/plain": [
       "<matplotlib.figure.Figure at 0x11aecdc10>"
      ]
     },
     "metadata": {},
     "output_type": "display_data"
    }
   ],
   "source": [
    "avg_scores = []\n",
    "for i in range(0,7):\n",
    "    avg_scores.append(np.mean(score_array[:,i]))\n",
    "    \n",
    "\n",
    "plt.plot(degrees, avg_scores)\n",
    "plt.xlabel(\"Degree\")\n",
    "plt.ylabel(\"Classification Accuracy\")\n",
    "plt.title(\"Accuracy vs Degree paramater in Polynomial SVC\")\n",
    "plt.show\n",
    "\n",
    "best_index = avg_scores.index(max(avg_scores))\n",
    "optimal_degree = degrees[best_index]\n",
    "print(\"Optimal degree: {:.8f}\".format(optimal_degree))\n",
    "\n",
    "svc = SVC(kernel='poly', random_state = 0, degree = optimal_degree)\n",
    "svc.fit(X_tr, y_tr)\n",
    "validation_score = svc.score(X_val, y_val)\n",
    "print('Classification accuracy on preprocessed training set: {:.6f}'.format(svc.score(X_tr, y_tr)))\n",
    "print('Classification accuracy on preprocessed validation set: {:.6f}\\n'.format(validation_score))  \n"
   ]
  },
  {
   "cell_type": "markdown",
   "metadata": {},
   "source": [
    "### ========== Question 1.26 ==========\n",
    "\n",
    "You might have noticted that so far, we have used cross-validation for optimising the various tuning parameters (e.g. regularisation parameter in logistic regression, SVM kernel parameters) rather than hold-out validation, although we did have access to a validation set. Why do you think this is a good/bad idea? Give one advantage and one disadvantage of the two different approaches. Which one would you trust more in practice?"
   ]
  },
  {
   "cell_type": "markdown",
   "metadata": {},
   "source": [
    "Cross validation lets us train with all of our data and lets us bypass irregularities in the initial split between training and validation sets. However, it is more computationally expensive and doesn't always change results significantly so sometimes it is smart to be careful how many folds you are using."
   ]
  },
  {
   "cell_type": "markdown",
   "metadata": {},
   "source": [
    "### ========== Question 1.27 ==========\n",
    "\n",
    "Reload the full training and validation data that contain all indicator variables for all object categories. Remove the `imgId` attribute but keep all of the class indicator variables in the dataset this time. Your training features should include all attributes except `is_person` which should be your target variable. \n",
    "\n",
    "Once again, use a [StandardScaler](http://scikit-learn.org/0.17/modules/generated/sklearn.preprocessing.StandardScaler.html) to standardise your training and validation features. Then train a Random Forest Classifier by using the entropy `criterion`, 500 `n_estimators`, and also set the `random_state` to 31. Report the classification accuracy on the training and validation sets.\n",
    "\n",
    "Similarly to what we did in Question 1.18, order the features by decreasing importance and display the 50 most important features. \n",
    "\n",
    "Finally, answer the following questions:\n",
    "* What do you notice by looking at the list of the best 50 features?\n",
    "* How does the performance differ with respect to the case when the additional class indicator variables are not present (Question 1.16)? Relate your observations to the observed feature ranking.\n",
    "* Would it be easy to make use of the results in practice? Briey explain your reasoning.\n",
    "\n",
    "*(Hint: you might want to look at some of the [images](http://www.inf.ed.ac.uk/teaching/courses/iaml/2014/assts/asst3/images.html) to justify your explanations.)*"
   ]
  },
  {
   "cell_type": "code",
   "execution_count": 98,
   "metadata": {
    "collapsed": false
   },
   "outputs": [],
   "source": [
    "# Load the datasets\n",
    "data_path1 = os.path.join(os.getcwd(), 'datasets', 'train_images_partA.csv')\n",
    "train_A_2 = pd.read_csv(data_path1, delimiter = ',')\n",
    "\n",
    "data_path2 = os.path.join(os.getcwd(), 'datasets', 'valid_images_partA.csv')\n",
    "valid_A_2 = pd.read_csv(data_path2, delimiter = ',')\n",
    "\n"
   ]
  },
  {
   "cell_type": "code",
   "execution_count": 99,
   "metadata": {
    "collapsed": false
   },
   "outputs": [],
   "source": [
    "# Get the input features into a list (removed imgID and is_person)\n",
    "input_features = train_A_2.columns[1:514].values.tolist()\n",
    "input_features.extend(train_A_2.columns[516:519].values.tolist())"
   ]
  },
  {
   "cell_type": "code",
   "execution_count": 100,
   "metadata": {
    "collapsed": false
   },
   "outputs": [
    {
     "name": "stdout",
     "output_type": "stream",
     "text": [
      "X_train shape: (2093, 516)\n",
      "y_train shape: (2093,)\n",
      "X_test shape: (1113, 516)\n",
      "y_test shape: (1113,)\n"
     ]
    }
   ],
   "source": [
    "#pull input features and target\n",
    "X_train = train_A_2[input_features]\n",
    "y_train = train_A_2['is_person']\n",
    "\n",
    "X_test = valid_A_2[input_features]\n",
    "y_test = valid_A_2['is_person']\n",
    "\n",
    "#print details\n",
    "print('X_train shape: {}'.format(np.shape(X_train)))\n",
    "print('y_train shape: {}'.format(np.shape(y_train)))\n",
    "print('X_test shape: {}'.format(np.shape(X_test)))\n",
    "print('y_test shape: {}'.format(np.shape(y_test)))"
   ]
  },
  {
   "cell_type": "code",
   "execution_count": 101,
   "metadata": {
    "collapsed": false
   },
   "outputs": [],
   "source": [
    "# Scale data\n",
    "scaler = StandardScaler().fit(X_train)\n",
    "X_train = scaler.transform(X_train)\n",
    "X_test = scaler.transform(X_test)"
   ]
  },
  {
   "cell_type": "code",
   "execution_count": 102,
   "metadata": {
    "collapsed": false
   },
   "outputs": [
    {
     "name": "stdout",
     "output_type": "stream",
     "text": [
      "Classification accuracy on training set: 1.0\n",
      "Classification accuracy on validation set: 0.725965858041\n"
     ]
    }
   ],
   "source": [
    "# Your code goes here\n",
    "rf = RandomForestClassifier(n_estimators=518, random_state = 31)\n",
    "rf.fit(X_train, y_train)\n",
    "prediction_training = rf.predict(X=X_train)\n",
    "prediction_validation = rf.predict(X=X_test)\n",
    "print('Classification accuracy on training set: {}'.format(accuracy_score(y_train, prediction_training)))\n",
    "print('Classification accuracy on validation set: {}'.format(accuracy_score(y_test, prediction_validation)))"
   ]
  },
  {
   "cell_type": "code",
   "execution_count": 103,
   "metadata": {
    "collapsed": false
   },
   "outputs": [
    {
     "name": "stdout",
     "output_type": "stream",
     "text": [
      "50 Most Important Features\n",
      "\n",
      "1: is_cat  (Importance: 0.010308)\n",
      "2: is_bird  (Importance: 0.007568)\n",
      "3: dim51  (Importance: 0.007509)\n",
      "4: dim21  (Importance: 0.007460)\n",
      "5: dim360  (Importance: 0.007191)\n",
      "6: dim479  (Importance: 0.006623)\n",
      "7: dim398  (Importance: 0.005806)\n",
      "8: dim283  (Importance: 0.005777)\n",
      "9: dim76  (Importance: 0.005536)\n",
      "10: dim4  (Importance: 0.005491)\n",
      "11: dim222  (Importance: 0.005289)\n",
      "12: dim74  (Importance: 0.005113)\n",
      "13: dim461  (Importance: 0.004604)\n",
      "14: dim92  (Importance: 0.004589)\n",
      "15: dim214  (Importance: 0.004549)\n",
      "16: dim485  (Importance: 0.004505)\n",
      "17: dim274  (Importance: 0.004247)\n",
      "18: dim356  (Importance: 0.004194)\n",
      "19: dim217  (Importance: 0.004175)\n",
      "20: dim343  (Importance: 0.004102)\n",
      "21: dim254  (Importance: 0.004101)\n",
      "22: dim348  (Importance: 0.004096)\n",
      "23: dim90  (Importance: 0.004080)\n",
      "24: dim330  (Importance: 0.004046)\n",
      "25: dim483  (Importance: 0.003976)\n",
      "26: dim347  (Importance: 0.003931)\n",
      "27: dim326  (Importance: 0.003920)\n",
      "28: dim423  (Importance: 0.003900)\n",
      "29: dim73  (Importance: 0.003890)\n",
      "30: dim263  (Importance: 0.003763)\n",
      "31: dim54  (Importance: 0.003694)\n",
      "32: dim500  (Importance: 0.003612)\n",
      "33: dim315  (Importance: 0.003611)\n",
      "34: dim134  (Importance: 0.003545)\n",
      "35: dim154  (Importance: 0.003544)\n",
      "36: dim427  (Importance: 0.003461)\n",
      "37: dim153  (Importance: 0.003452)\n",
      "38: dim17  (Importance: 0.003408)\n",
      "39: dim288  (Importance: 0.003347)\n",
      "40: dim329  (Importance: 0.003307)\n",
      "41: dim344  (Importance: 0.003296)\n",
      "42: dim207  (Importance: 0.003276)\n",
      "43: dim77  (Importance: 0.003195)\n",
      "44: dim25  (Importance: 0.003184)\n",
      "45: dim430  (Importance: 0.003175)\n",
      "46: dim206  (Importance: 0.003162)\n",
      "47: dim96  (Importance: 0.003155)\n",
      "48: dim35  (Importance: 0.003127)\n",
      "49: dim289  (Importance: 0.003070)\n",
      "50: dim322  (Importance: 0.003027)\n"
     ]
    }
   ],
   "source": [
    "importance_array = rf.feature_importances_\n",
    "best_indicies = np.argsort(importance_array)[::-1]\n",
    "\n",
    "print(\"50 Most Important Features\\n\")\n",
    "for i in range(0,50):\n",
    "    index = best_indicies[i]\n",
    "    dim = input_features[index]\n",
    "    importance = importance_array[index]\n",
    "    print(\"{}: {}  (Importance: {:.6f})\".format(i+1, dim, importance))\n"
   ]
  },
  {
   "cell_type": "markdown",
   "metadata": {},
   "source": [
    "Our performance went up. This makes complete since because we are introducing more data about the training set. Furthermore, the type of data we are introducing is very valuable. Most of the pictures contain one object. Thus, if we know it is a picture of say, a bird, then we know it is NOT a picture of a person. Thus, is_bird is a valuable attribute. It seems that if this attribute has a value of 1 then is_person is likely to have a value of zero. The opposite may not definitely be true but it has a higher probability.\n"
   ]
  },
  {
   "cell_type": "markdown",
   "metadata": {},
   "source": [
    "## Mini challenge [30%]"
   ]
  },
  {
   "cell_type": "markdown",
   "metadata": {},
   "source": [
    "*Important: You are allowed to write up to a maximum of 600 words in this part of the assignment. The thoroughness of the exploration and the quality of the resulting discussion is just as important as the final classification performance of your chosen method(s) and credit will be divided accordingly.*"
   ]
  },
  {
   "cell_type": "markdown",
   "metadata": {},
   "source": [
    "In this final part of the assignment we will have a mini object-recognition challenge. Using the data provided you are asked to find the best classiffier for the person/no person classification task. You can apply any preprocessing steps to the data that you think fit and employ any classiffier you like (with the provison that you can explain what the classiffier/preprocessing steps are doing). You can also employ any lessons learnt during the course, either from previous Assignments, the Labs or the lecture material to try and squeeze out as much performance as you possibly can. The only restriction is that all steps must be performed in `Python` by using the `numpy`, `pandas` and `sklearn` packages. You can also make use of `matplotlib` and `seaborn` for visualisation. "
   ]
  },
  {
   "cell_type": "markdown",
   "metadata": {},
   "source": [
    "**Important:** The classification performance metric that we will use for this part is the *cross-entropy* or *logarithmic loss* (see Lab 4). You should familiarise yourself with the metric by reading the `sklearn` [user guide](http://scikit-learn.org/0.17/modules/model_evaluation.html#log-loss) and [documentation](http://scikit-learn.org/0.17/modules/generated/sklearn.metrics.log_loss.html#sklearn.metrics.log_loss). To estimate this metric you will need to evaluate probability outputs, as opposed to discrete predictions which we have used so far to compute classification accuracies. Most models in `sklearn` implement a `predict_proba()` method which returns the posterior probabilities for each class. For instance, if your test set consists of `N` datapoints and there are `K` classes, the method will return a `N` x `K` matrix."
   ]
  },
  {
   "cell_type": "markdown",
   "metadata": {},
   "source": [
    "We provide you with three new data sets: a training set (`train_images_partB.csv`), a validation set (`valid_images_partB.csv`), and a test set (`test_images_partB.csv`). You must use the former two for training and evaluating your models (as you see fit). Once you have chosen your favourite model (and pre-processing steps) you should apply it to the test set (for which no labels are provided). Estimate the posterior proabilities for the data points in the test set and submit your results as part of your answer. Your results will be evaluated in terms of the logarithmic loss metric. You also need to submit a brief description of the approaches you considered, your suggested final approach, and a short explanation of why you chose it. The thoroughness of the exploration and the quality of the resulting discussion is just as important as the final score of your chosen method(s) and credit will be divided accordingly.\n",
    "\n",
    "*Hint: Feature engineering, feature combination, model combination and model parameter optimization can significantly improve performance.*"
   ]
  },
  {
   "cell_type": "markdown",
   "metadata": {},
   "source": [
    "**How to submit your results**: Store the estimated posterior probabilities for the data points in the test set into a 2D numpy array. Then execute the provided cell at the end of this notebook which uses a provided `save_predictions` function to export your results into a `.txt` file (the function will return an error if the provided array has not the right shape). The `.txt` file will be saved where your notebook lives. You are then required to copy this file into your submission folder along with your notebook (see Mecanics section at the top of the notebook) and then submit the two files by using the `submit` command on DICE. You are only required to use the `submit` command once."
   ]
  },
  {
   "cell_type": "markdown",
   "metadata": {},
   "source": [
    "*Your answer goes here (max. 600 words)*\n",
    "\n"
   ]
  },
  {
   "cell_type": "code",
   "execution_count": 105,
   "metadata": {
    "collapsed": false
   },
   "outputs": [],
   "source": [
    "# Load the datasets\n",
    "data_path1 = os.path.join(os.getcwd(), 'datasets', 'train_images_partB.csv')\n",
    "train_B = pd.read_csv(data_path1, delimiter = ',')\n",
    "\n",
    "data_path2 = os.path.join(os.getcwd(), 'datasets', 'valid_images_partB.csv')\n",
    "valid_B = pd.read_csv(data_path2, delimiter = ',')\n",
    "\n",
    "data_path3 = os.path.join(os.getcwd(), 'datasets', 'test_images_partB.csv')\n",
    "test_B = pd.read_csv(data_path2, delimiter = ',')\n",
    "\n",
    "# Get the input features into a list (removed labels)\n",
    "input_features = train_B.columns[1:501].tolist()\n",
    "\n",
    "#pull input features and target\n",
    "X_train = train_B[input_features]\n",
    "y_train = train_B['is_person']\n",
    "\n",
    "X_val = valid_B[input_features]\n",
    "y_val = valid_B['is_person']\n",
    "\n",
    "X_test = test_B[input_features]\n"
   ]
  },
  {
   "cell_type": "markdown",
   "metadata": {},
   "source": [
    "<h2>Try different scaling methods:</h2>"
   ]
  },
  {
   "cell_type": "code",
   "execution_count": 100,
   "metadata": {
    "collapsed": false
   },
   "outputs": [
    {
     "name": "stdout",
     "output_type": "stream",
     "text": [
      "done\n"
     ]
    }
   ],
   "source": [
    "# Scale data using three different methods\n",
    "scaler = StandardScaler().fit(X_train) # standard scaler\n",
    "min_max_scaler = MinMaxScaler().fit(X_train) # min-max scaler\n",
    "robust_scaler = RobustScaler().fit(X_train) # robust scaler\n",
    "\n",
    "X_train_min_max_scaled = min_max_scaler.transform(X_train)\n",
    "X_val_min_max_scaled = min_max_scaler.transform(X_val)\n",
    "\n",
    "X_train_standard_scaled = scaler.transform(X_train)\n",
    "X_val_standard_scaled = scaler.transform(X_val) \n",
    "\n",
    "# tested with different scales and this was the best one\n",
    "X_train_robust = robust_scaler.transform(X_train)\n",
    "X_val_robust = robust_scaler.transform(X_val) \n",
    "X_test_robust = robust_scaler.transform(X_test)\n",
    "print(\"done\")"
   ]
  },
  {
   "cell_type": "markdown",
   "metadata": {},
   "source": [
    "<h2> kNN attempt with optimized k:</h2>"
   ]
  },
  {
   "cell_type": "code",
   "execution_count": 38,
   "metadata": {
    "collapsed": false
   },
   "outputs": [
    {
     "name": "stdout",
     "output_type": "stream",
     "text": [
      "Optimal K: 28.0 Best accuracy: 0.677448337826\n"
     ]
    }
   ],
   "source": [
    "# try kNN and optimize k\n",
    "best_accuracy = 0.0\n",
    "\n",
    "k_vals = np.linspace(1,46,16)\n",
    "k_opt = -1\n",
    "for k in k_vals:\n",
    "    knn = KNeighborsClassifier(n_neighbors=k)\n",
    "    knn.fit(X_train_robust, y_train)\n",
    "    score = knn.score(X_val_robust, y_val)\n",
    "    if score > best_accuracy:\n",
    "        best_accuracy = score\n",
    "        k_opt = k\n",
    "    #print('{}: KNN classification accuracy (k = {}) on training set: {:.3f}'.format(k,k, score))\n",
    "print (\"Optimal K: {} Best accuracy: {}\".format(k_opt, best_accuracy))"
   ]
  },
  {
   "cell_type": "markdown",
   "metadata": {},
   "source": [
    "<h2>SVC attempt with Radial Basis and RobustScaler</h2>"
   ]
  },
  {
   "cell_type": "code",
   "execution_count": 88,
   "metadata": {
    "collapsed": false
   },
   "outputs": [
    {
     "name": "stdout",
     "output_type": "stream",
     "text": [
      "Classification accuracy on preprocessed validation set: 0.710692\n",
      "\n"
     ]
    }
   ],
   "source": [
    "svc_rbf = SVC(kernel='rbf', random_state = 0, probability = True)\n",
    "svc_rbf.fit(X_train_robust, y_train)\n",
    "validation_score = svc_rbf.score(X_val_robust, y_val)\n",
    "print('Classification accuracy on preprocessed validation set: {:.6f}\\n'.format(validation_score))  "
   ]
  },
  {
   "cell_type": "markdown",
   "metadata": {},
   "source": [
    "<h2>SVC attempt with Polynomials and RobustScaler</h2>"
   ]
  },
  {
   "cell_type": "code",
   "execution_count": 44,
   "metadata": {
    "collapsed": false
   },
   "outputs": [
    {
     "name": "stdout",
     "output_type": "stream",
     "text": [
      "Polynomial Classification accuracy on preprocessed validation set: 0.694519\n",
      "\n"
     ]
    }
   ],
   "source": [
    "svc_poly = SVC( kernel='poly', random_state = 0)\n",
    "svc_poly.fit(X_train_robust, y_train)\n",
    "validation_score = svc_poly.score(X_val_robust, y_val)\n",
    "print('Polynomial Classification accuracy on preprocessed validation set: {:.6f}\\n'.format(validation_score))  "
   ]
  },
  {
   "cell_type": "markdown",
   "metadata": {},
   "source": [
    "<h2>SVC attempt with PCA Dimensionality Reduction</h2>"
   ]
  },
  {
   "cell_type": "code",
   "execution_count": 52,
   "metadata": {
    "collapsed": false
   },
   "outputs": [
    {
     "name": "stdout",
     "output_type": "stream",
     "text": [
      "RBF accuracy - validation set: 0.69632\n"
     ]
    }
   ],
   "source": [
    "pca = PCA(n_components=50)\n",
    "X_train_pca = pca.fit_transform(X_train_robust, y = y_train) \n",
    "X_val_pca = pca.transform(X_val_robust)\n",
    "\n",
    "svc_radial_basis = SVC(kernel='rbf', random_state = 0)\n",
    "svc_radial_basis.fit(X_train_pca, y_train)\n",
    "print('RBF accuracy - validation set: {:.5f}'.format(svc_radial_basis.score(X_val_pca, y_val)))"
   ]
  },
  {
   "cell_type": "markdown",
   "metadata": {},
   "source": [
    "<h2>Random Forest attempt with RobustScaler</h2>"
   ]
  },
  {
   "cell_type": "code",
   "execution_count": 45,
   "metadata": {
    "collapsed": false
   },
   "outputs": [
    {
     "name": "stdout",
     "output_type": "stream",
     "text": [
      "Classification accuracy on validation set: 0.703504043127\n"
     ]
    }
   ],
   "source": [
    "# Your code goes here\n",
    "rf = RandomForestClassifier(n_estimators=499, random_state = 31)\n",
    "rf.fit(X_train_robust, y_train)\n",
    "prediction_training = rf.predict(X=X_train_robust)\n",
    "prediction_validation = rf.predict(X=X_val_robust)\n",
    "print('Classification accuracy on validation set: {}'.format(accuracy_score(y_val, prediction_validation)))"
   ]
  },
  {
   "cell_type": "markdown",
   "metadata": {},
   "source": [
    "<h2>Random Forest attempt with 50 most important attributes</h2>"
   ]
  },
  {
   "cell_type": "code",
   "execution_count": 49,
   "metadata": {
    "collapsed": false
   },
   "outputs": [
    {
     "name": "stdout",
     "output_type": "stream",
     "text": [
      "Classification accuracy on validation set: 0.661275831087\n"
     ]
    }
   ],
   "source": [
    "importance_array = rf.feature_importances_\n",
    "best_indicies = np.argsort(importance_array)[::-1]\n",
    "\n",
    "#pull input features and target\n",
    "X_train_50 = train_B[best_indicies[0:50]]\n",
    "X_val_50 = valid_B[best_indicies[0:50]]\n",
    "\n",
    "# Your code goes here\n",
    "rf_50 = RandomForestClassifier(n_estimators=499, random_state = 31)\n",
    "rf_50.fit(X_train_50, y_train)\n",
    "prediction_training = rf_50.predict(X=X_train_50)\n",
    "prediction_validation = rf_50.predict(X=X_val_50)\n",
    "print('Classification accuracy on validation set: {}'.format(accuracy_score(y_val, prediction_validation)))"
   ]
  },
  {
   "cell_type": "markdown",
   "metadata": {},
   "source": [
    "<h2>Playing around with optimizing c and gamma for SVC -- Unsuccessful</h2>"
   ]
  },
  {
   "cell_type": "code",
   "execution_count": 54,
   "metadata": {
    "collapsed": false
   },
   "outputs": [
    {
     "name": "stdout",
     "output_type": "stream",
     "text": [
      "Task complete.\n"
     ]
    }
   ],
   "source": [
    "# logspaces centred around previous optimized points\n",
    "logspace_gamma = np.logspace(-2, 1, 4)\n",
    "logspace_c = np.logspace(-4, -1, 4)\n",
    "\n",
    "scores_array = np.zeros([4,4])\n",
    "g_num = 0\n",
    "c_num = 0\n",
    "\n",
    "for g in logspace_gamma:\n",
    "    for c in logspace_c:\n",
    "            svc_test = SVC(kernel='rbf', random_state = 0, gamma = g, C = c)\n",
    "            #svc_test = SVC(kernel='rbf', random_state = 0)\n",
    "            svc_test.fit(X_train_standard_scaled, y_train)\n",
    "            scores_array[c_num, g_num] = svc_test.score(X_val_standard_scaled, y_val)\n",
    "            c_num += 1\n",
    "    c_num = 0\n",
    "    g_num += 1\n",
    "\n",
    "print(\"Task complete.\")"
   ]
  },
  {
   "cell_type": "code",
   "execution_count": 60,
   "metadata": {
    "collapsed": false
   },
   "outputs": [
    {
     "name": "stdout",
     "output_type": "stream",
     "text": [
      "Optimal gamma value: 10.000\n",
      "Optimal c value: 0.100\n"
     ]
    }
   ],
   "source": [
    "best_index = scores_array.argmax()\n",
    "best_indicies = unravel_index(scores_array.argmax(), scores_array.shape)\n",
    "optimal_gamma = logspace_gamma[best_indicies[1]]\n",
    "optimal_c = logspace_c[best_indicies[0]]\n",
    "\n",
    "print(\"Optimal gamma value: {:.3f}\".format(optimal_gamma))\n",
    "print(\"Optimal c value: {:.3f}\".format(optimal_c))  \n"
   ]
  },
  {
   "cell_type": "code",
   "execution_count": 101,
   "metadata": {
    "collapsed": false
   },
   "outputs": [],
   "source": [
    "pred_proba = svc_rbf.predict_proba(X_test_robust)"
   ]
  },
  {
   "cell_type": "code",
   "execution_count": 102,
   "metadata": {
    "collapsed": false
   },
   "outputs": [
    {
     "data": {
      "text/plain": [
       "(1113, 500)"
      ]
     },
     "execution_count": 102,
     "metadata": {},
     "output_type": "execute_result"
    }
   ],
   "source": [
    "pred_proba.shape\n",
    "X_test.shape"
   ]
  },
  {
   "cell_type": "code",
   "execution_count": 97,
   "metadata": {
    "collapsed": false
   },
   "outputs": [],
   "source": [
    "# Execute this cell to export your results\n",
    "from numpy import savetxt\n",
    "def save_predictions(pred_proba):\n",
    "    if pred_proba.shape != (1113,2):\n",
    "        raise ValueError('Predicted probabilities array has not the right shape.')\n",
    "    \n",
    "    savetxt('assignment_3_predictions.txt', pred_proba)\n",
    "\n",
    "save_predictions(pred_proba) # You need to replace \"pred_proba\" with the name of the array\n",
    "                             # which contains the probability estimates for the data in \n",
    "                             # the test set."
   ]
  },
  {
   "cell_type": "markdown",
   "metadata": {},
   "source": [
    "<h2>NOTE:</h2>\n",
    "My 'test_images_partB.csv' had only 1113 values not 1114. I am not sure why but I had to change the error check in the previous box."
   ]
  },
  {
   "cell_type": "markdown",
   "metadata": {},
   "source": [
    "<h4>Possible Successful Methods:</h4>\n",
    "Support Vector Classifiers with radial basis functions seem to be the best algorithm to use in general. I tried NB classifiers and Decision forests and got very disappointing results, especially for GuassianNB.\n",
    "\n",
    "A more comprehensive optimization of ‘G’ and ‘C’ parameters in a support vector classifier could be very successful. I would have built very slim log-spaces centered around the initial optimums to fine tune the parameters. \n",
    "\n",
    "I played around with different scalers, such as RobustScaler and had some more success, which defends against outliers by using median and interquartile range instead of mean and variance. This did, in fact, give me slightly better performance!\n",
    "\n",
    "I did some research online and found that a commonly used method of improving learning is to use ensemble methods. There is more than on way to do this. KFold seems to already be a type of bagging method and random forests seem to be a type of boosting method but I think there is a lot more here that could be done. I would investigate this further if I were to be building this model professionally.\n",
    "\n",
    "Feature engineering could have been useful but I was not exactly sure how to implement it. \n",
    "\n",
    "<h4>Most Successful Method:</h4>\n",
    "Unfortunately, I was not able to attempt all the above methods. SVC attempt with Radial Basis and RobustScaler was my most successful method but I wish I had more time to investigate methods above.\n",
    "\n",
    "<h4>Unsuccessful Methods:</h4>\n",
    "Dimensionality Reduction: The first thing I would have tried is a dimensionality reduction, possibly using some sort of clustering. However, I briefly tried using a PCA with limited success. We haven’t covered much about dimensionality reduction but it seemed to just limit the information available for the classifier. When I “reduced” the dimension using PCA from 499 -> 499, the performance was exactly the same and when I went from 499 to any number < 499 I had worse performance.\n",
    "\n",
    "Feature Importance: I also tried training with only the 50 most important features. This gave similar results to dimensionality reduction.\n",
    "\n",
    "\n",
    "\n"
   ]
  },
  {
   "cell_type": "code",
   "execution_count": null,
   "metadata": {
    "collapsed": true
   },
   "outputs": [],
   "source": []
  }
 ],
 "metadata": {
  "anaconda-cloud": {},
  "kernelspec": {
   "display_name": "Python [iaml]",
   "language": "python",
   "name": "Python [iaml]"
  },
  "language_info": {
   "codemirror_mode": {
    "name": "ipython",
    "version": 2
   },
   "file_extension": ".py",
   "mimetype": "text/x-python",
   "name": "python",
   "nbconvert_exporter": "python",
   "pygments_lexer": "ipython2",
   "version": "2.7.12"
  }
 },
 "nbformat": 4,
 "nbformat_minor": 0
}
